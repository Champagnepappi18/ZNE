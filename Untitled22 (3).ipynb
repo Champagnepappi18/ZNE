{
 "cells": [
  {
   "cell_type": "code",
   "execution_count": 1,
   "id": "71205c57-9d0d-447e-99dd-06b1af98f2c3",
   "metadata": {},
   "outputs": [
    {
     "ename": "ModuleNotFoundError",
     "evalue": "No module named 'qiskit.providers.aer'",
     "output_type": "error",
     "traceback": [
      "\u001b[0;31m---------------------------------------------------------------------------\u001b[0m",
      "\u001b[0;31mModuleNotFoundError\u001b[0m                       Traceback (most recent call last)",
      "Cell \u001b[0;32mIn[1], line 1\u001b[0m\n\u001b[0;32m----> 1\u001b[0m \u001b[38;5;28;01mfrom\u001b[39;00m \u001b[38;5;21;01mqiskit\u001b[39;00m\u001b[38;5;21;01m.\u001b[39;00m\u001b[38;5;21;01mproviders\u001b[39;00m\u001b[38;5;21;01m.\u001b[39;00m\u001b[38;5;21;01maer\u001b[39;00m \u001b[38;5;28;01mimport\u001b[39;00m Aer\n\u001b[1;32m      2\u001b[0m \u001b[38;5;28mprint\u001b[39m(Aer\u001b[38;5;241m.\u001b[39mbackends())\n",
      "\u001b[0;31mModuleNotFoundError\u001b[0m: No module named 'qiskit.providers.aer'"
     ]
    }
   ],
   "source": [
    "from qiskit.providers.aer import Aer\n",
    "print(Aer.backends())\n"
   ]
  },
  {
   "cell_type": "code",
   "execution_count": 2,
   "id": "eb71c13b-7002-4a2c-8115-abce2946d6aa",
   "metadata": {},
   "outputs": [
    {
     "name": "stdout",
     "output_type": "stream",
     "text": [
      "qiskit                           1.3.0\n",
      "qiskit-aer                       0.15.1\n",
      "qiskit_code_assistant_jupyterlab 0.5.0\n",
      "qiskit-ibm-runtime               0.33.2\n",
      "/Users/champagnepapii/qiskit_env/bin/python\n"
     ]
    }
   ],
   "source": [
    "!pip list | grep qiskit\n",
    "import sys\n",
    "print(sys.executable)\n"
   ]
  },
  {
   "cell_type": "code",
   "execution_count": 3,
   "id": "e321a02e-73af-4573-bdb2-89377c0b28f6",
   "metadata": {},
   "outputs": [
    {
     "name": "stdout",
     "output_type": "stream",
     "text": [
      "/Users/champagnepapii/qiskit_env/lib/python3.10/site-packages/qiskit/__init__.py\n",
      "/Users/champagnepapii/qiskit_env/lib/python3.10/site-packages/qiskit_aer/__init__.py\n"
     ]
    }
   ],
   "source": [
    "import qiskit\n",
    "import qiskit_aer\n",
    "\n",
    "print(qiskit.__file__)\n",
    "print(qiskit_aer.__file__)\n"
   ]
  },
  {
   "cell_type": "code",
   "execution_count": 4,
   "id": "58ec5871-8fad-4ded-acc7-548b067c12f3",
   "metadata": {},
   "outputs": [
    {
     "ename": "ModuleNotFoundError",
     "evalue": "No module named 'qiskit.providers.aer'",
     "output_type": "error",
     "traceback": [
      "\u001b[0;31m---------------------------------------------------------------------------\u001b[0m",
      "\u001b[0;31mModuleNotFoundError\u001b[0m                       Traceback (most recent call last)",
      "Cell \u001b[0;32mIn[4], line 1\u001b[0m\n\u001b[0;32m----> 1\u001b[0m \u001b[38;5;28;01mfrom\u001b[39;00m \u001b[38;5;21;01mqiskit\u001b[39;00m\u001b[38;5;21;01m.\u001b[39;00m\u001b[38;5;21;01mproviders\u001b[39;00m\u001b[38;5;21;01m.\u001b[39;00m\u001b[38;5;21;01maer\u001b[39;00m \u001b[38;5;28;01mimport\u001b[39;00m Aer\n\u001b[1;32m      2\u001b[0m \u001b[38;5;28mprint\u001b[39m(Aer\u001b[38;5;241m.\u001b[39mbackends())\n",
      "\u001b[0;31mModuleNotFoundError\u001b[0m: No module named 'qiskit.providers.aer'"
     ]
    }
   ],
   "source": [
    "from qiskit.providers.aer import Aer\n",
    "print(Aer.backends())\n"
   ]
  },
  {
   "cell_type": "code",
   "execution_count": 5,
   "id": "669fe9c6-10be-47ae-971f-212002d721a8",
   "metadata": {},
   "outputs": [
    {
     "name": "stdout",
     "output_type": "stream",
     "text": [
      "Name: qiskit-aer\n",
      "Version: 0.15.1\n",
      "Summary: Aer - High performance simulators for Qiskit\n",
      "Home-page: https://github.com/Qiskit/qiskit-aer\n",
      "Author: AER Development Team\n",
      "Author-email: qiskit@us.ibm.com\n",
      "License: Apache 2.0\n",
      "Location: /Library/Frameworks/Python.framework/Versions/3.12/lib/python3.12/site-packages\n",
      "Requires: numpy, psutil, qiskit, scipy\n",
      "Required-by: \n"
     ]
    }
   ],
   "source": [
    "!pip show qiskit-aer\n"
   ]
  },
  {
   "cell_type": "code",
   "execution_count": 6,
   "id": "58b408ae-5183-433c-8b10-927b23a7a7d2",
   "metadata": {},
   "outputs": [
    {
     "ename": "ImportError",
     "evalue": "cannot import name 'Aer' from 'qiskit' (/Users/champagnepapii/qiskit_env/lib/python3.10/site-packages/qiskit/__init__.py)",
     "output_type": "error",
     "traceback": [
      "\u001b[0;31m---------------------------------------------------------------------------\u001b[0m",
      "\u001b[0;31mImportError\u001b[0m                               Traceback (most recent call last)",
      "Cell \u001b[0;32mIn[6], line 1\u001b[0m\n\u001b[0;32m----> 1\u001b[0m \u001b[38;5;28;01mfrom\u001b[39;00m \u001b[38;5;21;01mqiskit\u001b[39;00m \u001b[38;5;28;01mimport\u001b[39;00m QuantumCircuit, Aer, execute\n\u001b[1;32m      3\u001b[0m \u001b[38;5;66;03m# Create a Quantum Circuit\u001b[39;00m\n\u001b[1;32m      4\u001b[0m qc \u001b[38;5;241m=\u001b[39m QuantumCircuit(\u001b[38;5;241m1\u001b[39m, \u001b[38;5;241m1\u001b[39m)\n",
      "\u001b[0;31mImportError\u001b[0m: cannot import name 'Aer' from 'qiskit' (/Users/champagnepapii/qiskit_env/lib/python3.10/site-packages/qiskit/__init__.py)"
     ]
    }
   ],
   "source": [
    "from qiskit import QuantumCircuit, Aer, execute\n",
    "\n",
    "# Create a Quantum Circuit\n",
    "qc = QuantumCircuit(1, 1)\n",
    "qc.h(0)  # Apply Hadamard gate\n",
    "qc.measure(0, 0)  # Measure the qubit\n",
    "\n",
    "# Run the circuit on the Aer simulator\n",
    "simulator = Aer.get_backend('qasm_simulator')\n",
    "job = execute(qc, simulator, shots=1024)\n",
    "result = job.result()\n",
    "counts = result.get_counts()\n",
    "print(\"Counts:\", counts)\n",
    "\n"
   ]
  },
  {
   "cell_type": "code",
   "execution_count": 7,
   "id": "91398d8f-f7fb-4ec4-89e6-f5f2d020531a",
   "metadata": {},
   "outputs": [
    {
     "name": "stdout",
     "output_type": "stream",
     "text": [
      "[AerSimulator('aer_simulator'), AerSimulator('aer_simulator_statevector'), AerSimulator('aer_simulator_density_matrix'), AerSimulator('aer_simulator_stabilizer'), AerSimulator('aer_simulator_matrix_product_state'), AerSimulator('aer_simulator_extended_stabilizer'), AerSimulator('aer_simulator_unitary'), AerSimulator('aer_simulator_superop'), QasmSimulator('qasm_simulator'), StatevectorSimulator('statevector_simulator'), UnitarySimulator('unitary_simulator')]\n"
     ]
    }
   ],
   "source": [
    "from qiskit_aer import Aer\n",
    "print(Aer.backends())\n",
    "\n"
   ]
  },
  {
   "cell_type": "code",
   "execution_count": 8,
   "id": "8f1954ce-87a4-4628-acb2-04e19bd159df",
   "metadata": {},
   "outputs": [
    {
     "ename": "ImportError",
     "evalue": "cannot import name 'execute' from 'qiskit' (/Users/champagnepapii/qiskit_env/lib/python3.10/site-packages/qiskit/__init__.py)",
     "output_type": "error",
     "traceback": [
      "\u001b[0;31m---------------------------------------------------------------------------\u001b[0m",
      "\u001b[0;31mImportError\u001b[0m                               Traceback (most recent call last)",
      "Cell \u001b[0;32mIn[8], line 1\u001b[0m\n\u001b[0;32m----> 1\u001b[0m \u001b[38;5;28;01mfrom\u001b[39;00m \u001b[38;5;21;01mqiskit\u001b[39;00m \u001b[38;5;28;01mimport\u001b[39;00m QuantumCircuit, execute\n\u001b[1;32m      2\u001b[0m \u001b[38;5;28;01mfrom\u001b[39;00m \u001b[38;5;21;01mqiskit_aer\u001b[39;00m \u001b[38;5;28;01mimport\u001b[39;00m Aer\n\u001b[1;32m      4\u001b[0m \u001b[38;5;66;03m# Create a Quantum Circuit\u001b[39;00m\n",
      "\u001b[0;31mImportError\u001b[0m: cannot import name 'execute' from 'qiskit' (/Users/champagnepapii/qiskit_env/lib/python3.10/site-packages/qiskit/__init__.py)"
     ]
    }
   ],
   "source": [
    "from qiskit import QuantumCircuit, execute\n",
    "from qiskit_aer import Aer\n",
    "\n",
    "# Create a Quantum Circuit\n",
    "qc = QuantumCircuit(1, 1)\n",
    "qc.h(0)  # Apply Hadamard gate\n",
    "qc.measure(0, 0)  # Measure the qubit\n",
    "\n",
    "# Run the circuit on the Aer simulator\n",
    "simulator = Aer.get_backend('qasm_simulator')\n",
    "job = execute(qc, simulator, shots=1024)\n",
    "result = job.result()\n",
    "counts = result.get_counts()\n",
    "print(\"Counts:\", counts)\n"
   ]
  },
  {
   "cell_type": "code",
   "execution_count": 9,
   "id": "b0c929d7-2013-44e3-8f30-6ac71b7b7471",
   "metadata": {},
   "outputs": [
    {
     "ename": "ModuleNotFoundError",
     "evalue": "No module named 'qiskit.execute_function'",
     "output_type": "error",
     "traceback": [
      "\u001b[0;31m---------------------------------------------------------------------------\u001b[0m",
      "\u001b[0;31mModuleNotFoundError\u001b[0m                       Traceback (most recent call last)",
      "Cell \u001b[0;32mIn[9], line 3\u001b[0m\n\u001b[1;32m      1\u001b[0m \u001b[38;5;28;01mfrom\u001b[39;00m \u001b[38;5;21;01mqiskit\u001b[39;00m \u001b[38;5;28;01mimport\u001b[39;00m QuantumCircuit\n\u001b[1;32m      2\u001b[0m \u001b[38;5;28;01mfrom\u001b[39;00m \u001b[38;5;21;01mqiskit_aer\u001b[39;00m \u001b[38;5;28;01mimport\u001b[39;00m Aer\n\u001b[0;32m----> 3\u001b[0m \u001b[38;5;28;01mfrom\u001b[39;00m \u001b[38;5;21;01mqiskit\u001b[39;00m\u001b[38;5;21;01m.\u001b[39;00m\u001b[38;5;21;01mexecute_function\u001b[39;00m \u001b[38;5;28;01mimport\u001b[39;00m execute\n\u001b[1;32m      5\u001b[0m \u001b[38;5;66;03m# Create a Quantum Circuit\u001b[39;00m\n\u001b[1;32m      6\u001b[0m qc \u001b[38;5;241m=\u001b[39m QuantumCircuit(\u001b[38;5;241m1\u001b[39m, \u001b[38;5;241m1\u001b[39m)\n",
      "\u001b[0;31mModuleNotFoundError\u001b[0m: No module named 'qiskit.execute_function'"
     ]
    }
   ],
   "source": [
    "from qiskit import QuantumCircuit\n",
    "from qiskit_aer import Aer\n",
    "from qiskit.execute_function import execute\n",
    "\n",
    "# Create a Quantum Circuit\n",
    "qc = QuantumCircuit(1, 1)\n",
    "qc.h(0)  # Apply Hadamard gate\n",
    "qc.measure(0, 0)  # Measure the qubit\n",
    "\n",
    "# Run the circuit on the Aer simulator\n",
    "simulator = Aer.get_backend('qasm_simulator')\n",
    "job = execute(qc, simulator, shots=1024)\n",
    "result = job.result()\n",
    "counts = result.get_counts()\n",
    "print(\"Counts:\", counts)\n"
   ]
  },
  {
   "cell_type": "code",
   "execution_count": 10,
   "id": "cfb7fea6-7034-400f-a161-bb69230907c2",
   "metadata": {},
   "outputs": [
    {
     "ename": "ImportError",
     "evalue": "cannot import name 'execute' from 'qiskit' (/Users/champagnepapii/qiskit_env/lib/python3.10/site-packages/qiskit/__init__.py)",
     "output_type": "error",
     "traceback": [
      "\u001b[0;31m---------------------------------------------------------------------------\u001b[0m",
      "\u001b[0;31mImportError\u001b[0m                               Traceback (most recent call last)",
      "Cell \u001b[0;32mIn[10], line 1\u001b[0m\n\u001b[0;32m----> 1\u001b[0m \u001b[38;5;28;01mfrom\u001b[39;00m \u001b[38;5;21;01mqiskit\u001b[39;00m \u001b[38;5;28;01mimport\u001b[39;00m execute\n",
      "\u001b[0;31mImportError\u001b[0m: cannot import name 'execute' from 'qiskit' (/Users/champagnepapii/qiskit_env/lib/python3.10/site-packages/qiskit/__init__.py)"
     ]
    }
   ],
   "source": [
    "from qiskit import execute\n"
   ]
  },
  {
   "cell_type": "code",
   "execution_count": 11,
   "id": "b0091053-0271-4101-a845-5fdaed8ed783",
   "metadata": {},
   "outputs": [
    {
     "ename": "SyntaxError",
     "evalue": "invalid syntax (3109642832.py, line 1)",
     "output_type": "error",
     "traceback": [
      "\u001b[0;36m  Cell \u001b[0;32mIn[11], line 1\u001b[0;36m\u001b[0m\n\u001b[0;31m    pip install --upgrade qiskit\u001b[0m\n\u001b[0m        ^\u001b[0m\n\u001b[0;31mSyntaxError\u001b[0m\u001b[0;31m:\u001b[0m invalid syntax\n"
     ]
    }
   ],
   "source": [
    "pip install --upgrade qiskit\n",
    "\n"
   ]
  },
  {
   "cell_type": "code",
   "execution_count": 12,
   "id": "4fea6e39-7e6e-4273-bf33-5b400449da64",
   "metadata": {},
   "outputs": [
    {
     "ename": "ImportError",
     "evalue": "cannot import name 'Aer' from 'qiskit' (/Users/champagnepapii/qiskit_env/lib/python3.10/site-packages/qiskit/__init__.py)",
     "output_type": "error",
     "traceback": [
      "\u001b[0;31m---------------------------------------------------------------------------\u001b[0m",
      "\u001b[0;31mImportError\u001b[0m                               Traceback (most recent call last)",
      "Cell \u001b[0;32mIn[12], line 1\u001b[0m\n\u001b[0;32m----> 1\u001b[0m \u001b[38;5;28;01mfrom\u001b[39;00m \u001b[38;5;21;01mqiskit\u001b[39;00m \u001b[38;5;28;01mimport\u001b[39;00m QuantumCircuit, Aer, execute\n\u001b[1;32m      3\u001b[0m \u001b[38;5;66;03m# Create a Quantum Circuit\u001b[39;00m\n\u001b[1;32m      4\u001b[0m qc \u001b[38;5;241m=\u001b[39m QuantumCircuit(\u001b[38;5;241m1\u001b[39m, \u001b[38;5;241m1\u001b[39m)\n",
      "\u001b[0;31mImportError\u001b[0m: cannot import name 'Aer' from 'qiskit' (/Users/champagnepapii/qiskit_env/lib/python3.10/site-packages/qiskit/__init__.py)"
     ]
    }
   ],
   "source": [
    "from qiskit import QuantumCircuit, Aer, execute\n",
    "\n",
    "# Create a Quantum Circuit\n",
    "qc = QuantumCircuit(1, 1)\n",
    "qc.h(0)  # Apply Hadamard gate\n",
    "qc.measure(0, 0)  # Measure the qubit\n",
    "\n",
    "# Run the circuit on the Aer simulator\n",
    "simulator = Aer.get_backend('qasm_simulator')\n",
    "job = execute(qc, simulator, shots=1024)\n",
    "result = job.result()\n",
    "counts = result.get_counts()\n",
    "print(\"Counts:\", counts)\n"
   ]
  },
  {
   "cell_type": "code",
   "execution_count": 13,
   "id": "bd84f1b1-2c03-4c0d-950a-99e18cd91b5d",
   "metadata": {},
   "outputs": [
    {
     "name": "stdout",
     "output_type": "stream",
     "text": [
      "[AerSimulator('aer_simulator'), AerSimulator('aer_simulator_statevector'), AerSimulator('aer_simulator_density_matrix'), AerSimulator('aer_simulator_stabilizer'), AerSimulator('aer_simulator_matrix_product_state'), AerSimulator('aer_simulator_extended_stabilizer'), AerSimulator('aer_simulator_unitary'), AerSimulator('aer_simulator_superop'), QasmSimulator('qasm_simulator'), StatevectorSimulator('statevector_simulator'), UnitarySimulator('unitary_simulator')]\n"
     ]
    }
   ],
   "source": [
    "from qiskit_aer import Aer\n",
    "print(Aer.backends())\n"
   ]
  },
  {
   "cell_type": "code",
   "execution_count": 14,
   "id": "a50ea9cd-7179-4058-9e03-920961afabb2",
   "metadata": {},
   "outputs": [
    {
     "ename": "ImportError",
     "evalue": "cannot import name 'Aer' from 'qiskit' (/Users/champagnepapii/qiskit_env/lib/python3.10/site-packages/qiskit/__init__.py)",
     "output_type": "error",
     "traceback": [
      "\u001b[0;31m---------------------------------------------------------------------------\u001b[0m",
      "\u001b[0;31mImportError\u001b[0m                               Traceback (most recent call last)",
      "Cell \u001b[0;32mIn[14], line 1\u001b[0m\n\u001b[0;32m----> 1\u001b[0m \u001b[38;5;28;01mfrom\u001b[39;00m \u001b[38;5;21;01mqiskit\u001b[39;00m \u001b[38;5;28;01mimport\u001b[39;00m QuantumCircuit, Aer\n\u001b[1;32m      2\u001b[0m \u001b[38;5;28;01mfrom\u001b[39;00m \u001b[38;5;21;01mqiskit\u001b[39;00m\u001b[38;5;21;01m.\u001b[39;00m\u001b[38;5;21;01mresult\u001b[39;00m \u001b[38;5;28;01mimport\u001b[39;00m Counts\n\u001b[1;32m      4\u001b[0m \u001b[38;5;66;03m# Create a Quantum Circuit\u001b[39;00m\n",
      "\u001b[0;31mImportError\u001b[0m: cannot import name 'Aer' from 'qiskit' (/Users/champagnepapii/qiskit_env/lib/python3.10/site-packages/qiskit/__init__.py)"
     ]
    }
   ],
   "source": [
    "from qiskit import QuantumCircuit, Aer\n",
    "from qiskit.result import Counts\n",
    "\n",
    "# Create a Quantum Circuit\n",
    "qc = QuantumCircuit(1, 1)\n",
    "qc.h(0)  # Apply Hadamard gate\n",
    "qc.measure(0, 0)  # Measure the qubit\n",
    "\n",
    "# Run the circuit on the Aer simulator\n",
    "simulator = Aer.get_backend('qasm_simulator')\n",
    "\n",
    "# Assemble the circuit for execution\n",
    "compiled_circuit = simulator.run(qc, shots=1024)\n",
    "result = compiled_circuit.result()\n",
    "\n",
    "# Get the counts\n",
    "counts = result.get_counts()\n",
    "print(\"Counts:\", counts)\n",
    "\n"
   ]
  },
  {
   "cell_type": "code",
   "execution_count": 15,
   "id": "24956cf6-c21d-4ac3-9012-40265c455d87",
   "metadata": {},
   "outputs": [
    {
     "name": "stdout",
     "output_type": "stream",
     "text": [
      "Counts: {'0': 495, '1': 529}\n"
     ]
    }
   ],
   "source": [
    "from qiskit import QuantumCircuit\n",
    "from qiskit_aer import Aer\n",
    "from qiskit.result import Counts\n",
    "\n",
    "# Create a Quantum Circuit\n",
    "qc = QuantumCircuit(1, 1)\n",
    "qc.h(0)  # Apply Hadamard gate\n",
    "qc.measure(0, 0)  # Measure the qubit\n",
    "\n",
    "# Run the circuit on the Aer simulator\n",
    "simulator = Aer.get_backend('qasm_simulator')\n",
    "\n",
    "# Assemble the circuit for execution\n",
    "compiled_circuit = simulator.run(qc, shots=1024)\n",
    "result = compiled_circuit.result()\n",
    "\n",
    "# Get the counts\n",
    "counts = result.get_counts()\n",
    "print(\"Counts:\", counts)\n",
    "\n"
   ]
  },
  {
   "cell_type": "code",
   "execution_count": 16,
   "id": "5c2380df-55c4-44ed-91a3-5bffa65eef70",
   "metadata": {},
   "outputs": [
    {
     "ename": "ModuleNotFoundError",
     "evalue": "No module named 'qiskit.providers.aer'",
     "output_type": "error",
     "traceback": [
      "\u001b[0;31m---------------------------------------------------------------------------\u001b[0m",
      "\u001b[0;31mModuleNotFoundError\u001b[0m                       Traceback (most recent call last)",
      "Cell \u001b[0;32mIn[16], line 3\u001b[0m\n\u001b[1;32m      1\u001b[0m \u001b[38;5;28;01mfrom\u001b[39;00m \u001b[38;5;21;01mqiskit\u001b[39;00m \u001b[38;5;28;01mimport\u001b[39;00m QuantumCircuit\n\u001b[1;32m      2\u001b[0m \u001b[38;5;28;01mfrom\u001b[39;00m \u001b[38;5;21;01mqiskit_aer\u001b[39;00m \u001b[38;5;28;01mimport\u001b[39;00m Aer\n\u001b[0;32m----> 3\u001b[0m \u001b[38;5;28;01mfrom\u001b[39;00m \u001b[38;5;21;01mqiskit\u001b[39;00m\u001b[38;5;21;01m.\u001b[39;00m\u001b[38;5;21;01mproviders\u001b[39;00m\u001b[38;5;21;01m.\u001b[39;00m\u001b[38;5;21;01maer\u001b[39;00m\u001b[38;5;21;01m.\u001b[39;00m\u001b[38;5;21;01mnoise\u001b[39;00m \u001b[38;5;28;01mimport\u001b[39;00m NoiseModel, depolarizing_error\n\u001b[1;32m      4\u001b[0m \u001b[38;5;28;01mimport\u001b[39;00m \u001b[38;5;21;01mnumpy\u001b[39;00m \u001b[38;5;28;01mas\u001b[39;00m \u001b[38;5;21;01mnp\u001b[39;00m\n\u001b[1;32m      5\u001b[0m \u001b[38;5;28;01mfrom\u001b[39;00m \u001b[38;5;21;01mscipy\u001b[39;00m\u001b[38;5;21;01m.\u001b[39;00m\u001b[38;5;21;01moptimize\u001b[39;00m \u001b[38;5;28;01mimport\u001b[39;00m curve_fit\n",
      "\u001b[0;31mModuleNotFoundError\u001b[0m: No module named 'qiskit.providers.aer'"
     ]
    }
   ],
   "source": [
    "from qiskit import QuantumCircuit\n",
    "from qiskit_aer import Aer\n",
    "from qiskit_aer import NoiseModel, depolarizing_error\n",
    "import numpy as np\n",
    "from scipy.optimize import curve_fit\n",
    "\n",
    "# Define original quantum circuit\n",
    "qc = QuantumCircuit(1)\n",
    "qc.h(0)\n",
    "qc.measure_all()\n",
    "\n",
    "# Define noise model (depolarizing noise)\n",
    "noise_model = NoiseModel()\n",
    "depolarizing = depolarizing_error(0.05, 1)\n",
    "noise_model.add_all_qubit_quantum_error(depolarizing, ['h'])\n",
    "\n",
    "# Run circuit at different noise levels\n",
    "def run_with_noise(qc, scale_factor, noise_model):\n",
    "    folded_qc = qc + qc.inverse() * (scale_factor - 1)\n",
    "    backend = Aer.get_backend('qasm_simulator')\n",
    "    job = backend.run(folded_qc, noise_model=noise_model, shots=1024)\n",
    "    result = job.result()\n",
    "    return result.get_counts()\n",
    "\n",
    "# Collect noisy results\n",
    "scale_factors = [1, 1.5, 2]\n",
    "results = [run_with_noise(qc, sf, noise_model) for sf in scale_factors]\n",
    "\n",
    "# Fit and extrapolate\n",
    "def linear_model(x, a, b):\n",
    "    return a + b * x\n",
    "\n",
    "counts = np.array([result.get('0', 0) for result in results])  # Use `.get` to handle missing keys gracefully\n",
    "params, _ = curve_fit(linear_model, scale_factors, counts)\n",
    "noiseless_result = params[0]\n",
    "print(\"Estimated zero-noise result:\", noiseless_result)\n"
   ]
  },
  {
   "cell_type": "code",
   "execution_count": 17,
   "id": "d03ab4e2-8cb3-41a6-a92e-9fb462b5b8a2",
   "metadata": {},
   "outputs": [
    {
     "ename": "ImportError",
     "evalue": "cannot import name 'NoiseModel' from 'qiskit_aer' (/Users/champagnepapii/qiskit_env/lib/python3.10/site-packages/qiskit_aer/__init__.py)",
     "output_type": "error",
     "traceback": [
      "\u001b[0;31m---------------------------------------------------------------------------\u001b[0m",
      "\u001b[0;31mImportError\u001b[0m                               Traceback (most recent call last)",
      "Cell \u001b[0;32mIn[17], line 3\u001b[0m\n\u001b[1;32m      1\u001b[0m \u001b[38;5;28;01mfrom\u001b[39;00m \u001b[38;5;21;01mqiskit\u001b[39;00m \u001b[38;5;28;01mimport\u001b[39;00m QuantumCircuit\n\u001b[1;32m      2\u001b[0m \u001b[38;5;28;01mfrom\u001b[39;00m \u001b[38;5;21;01mqiskit_aer\u001b[39;00m \u001b[38;5;28;01mimport\u001b[39;00m Aer\n\u001b[0;32m----> 3\u001b[0m \u001b[38;5;28;01mfrom\u001b[39;00m \u001b[38;5;21;01mqiskit_aer\u001b[39;00m \u001b[38;5;28;01mimport\u001b[39;00m NoiseModel, depolarizing_error\n\u001b[1;32m      4\u001b[0m \u001b[38;5;28;01mimport\u001b[39;00m \u001b[38;5;21;01mnumpy\u001b[39;00m \u001b[38;5;28;01mas\u001b[39;00m \u001b[38;5;21;01mnp\u001b[39;00m\n\u001b[1;32m      5\u001b[0m \u001b[38;5;28;01mfrom\u001b[39;00m \u001b[38;5;21;01mscipy\u001b[39;00m\u001b[38;5;21;01m.\u001b[39;00m\u001b[38;5;21;01moptimize\u001b[39;00m \u001b[38;5;28;01mimport\u001b[39;00m curve_fit\n",
      "\u001b[0;31mImportError\u001b[0m: cannot import name 'NoiseModel' from 'qiskit_aer' (/Users/champagnepapii/qiskit_env/lib/python3.10/site-packages/qiskit_aer/__init__.py)"
     ]
    }
   ],
   "source": [
    "from qiskit import QuantumCircuit\n",
    "from qiskit_aer import Aer\n",
    "from qiskit_aer import NoiseModel, depolarizing_error\n",
    "import numpy as np\n",
    "from scipy.optimize import curve_fit\n",
    "\n",
    "# Define original quantum circuit\n",
    "qc = QuantumCircuit(1)\n",
    "qc.h(0)\n",
    "qc.measure_all()\n",
    "\n",
    "# Define noise model (depolarizing noise)\n",
    "noise_model = NoiseModel()\n",
    "depolarizing = depolarizing_error(0.05, 1)\n",
    "noise_model.add_all_qubit_quantum_error(depolarizing, ['h'])\n",
    "\n",
    "# Run circuit at different noise levels\n",
    "def run_with_noise(qc, scale_factor, noise_model):\n",
    "    folded_qc = qc + qc.inverse() * (scale_factor - 1)\n",
    "    backend = Aer.get_backend('qasm_simulator')\n",
    "    job = backend.run(folded_qc, noise_model=noise_model, shots=1024)\n",
    "    result = job.result()\n",
    "    return result.get_counts()\n",
    "\n",
    "# Collect noisy results\n",
    "scale_factors = [1, 1.5, 2]\n",
    "results = [run_with_noise(qc, sf, noise_model) for sf in scale_factors]\n",
    "\n",
    "# Fit and extrapolate\n",
    "def linear_model(x, a, b):\n",
    "    return a + b * x\n",
    "\n",
    "counts = np.array([result.get('0', 0) for result in results])  # Use `.get` to handle missing keys gracefully\n",
    "params, _ = curve_fit(linear_model, scale_factors, counts)\n",
    "noiseless_result = params[0]\n",
    "print(\"Estimated zero-noise result:\", noiseless_result)"
   ]
  },
  {
   "cell_type": "code",
   "execution_count": 18,
   "id": "44e2983a-b1f3-492c-a69a-1280577e929d",
   "metadata": {},
   "outputs": [
    {
     "name": "stdout",
     "output_type": "stream",
     "text": [
      "NoiseModel test passed!\n"
     ]
    }
   ],
   "source": [
    "from qiskit_aer.noise import NoiseModel, depolarizing_error\n",
    "print(\"NoiseModel test passed!\")\n"
   ]
  },
  {
   "cell_type": "code",
   "execution_count": 19,
   "id": "fbc6351a-6f6e-460c-b6d6-7067736d3105",
   "metadata": {},
   "outputs": [
    {
     "ename": "SyntaxError",
     "evalue": "incomplete input (1044394795.py, line 30)",
     "output_type": "error",
     "traceback": [
      "\u001b[0;36m  Cell \u001b[0;32mIn[19], line 30\u001b[0;36m\u001b[0m\n\u001b[0;31m    def linear_model(x\u001b[0m\n\u001b[0m                      ^\u001b[0m\n\u001b[0;31mSyntaxError\u001b[0m\u001b[0;31m:\u001b[0m incomplete input\n"
     ]
    }
   ],
   "source": [
    "from qiskit import QuantumCircuit\n",
    "from qiskit_aer import Aer\n",
    "from qiskit_aer.noise import NoiseModel, depolarizing_error\n",
    "import numpy as np\n",
    "from scipy.optimize import curve_fit\n",
    "\n",
    "# Define original quantum circuit\n",
    "qc = QuantumCircuit(1)\n",
    "qc.h(0)\n",
    "qc.measure_all()\n",
    "\n",
    "# Define noise model (depolarizing noise)\n",
    "noise_model = NoiseModel()\n",
    "depolarizing = depolarizing_error(0.05, 1)\n",
    "noise_model.add_all_qubit_quantum_error(depolarizing, ['h'])\n",
    "\n",
    "# Run circuit at different noise levels\n",
    "def run_with_noise(qc, scale_factor, noise_model):\n",
    "    folded_qc = qc + qc.inverse() * (scale_factor - 1)\n",
    "    backend = Aer.get_backend('qasm_simulator')\n",
    "    job = backend.run(folded_qc, noise_model=noise_model, shots=1024)\n",
    "    result = job.result()\n",
    "    return result.get_counts()\n",
    "\n",
    "# Collect noisy results\n",
    "scale_factors = [1, 1.5, 2]\n",
    "results = [run_with_noise(qc, sf, noise_model) for sf in scale_factors]\n",
    "\n",
    "# Fit and extrapol)ate\n",
    "def linear_model(x\n"
   ]
  },
  {
   "cell_type": "code",
   "execution_count": 21,
   "id": "6b486a64-4503-4026-8a50-4846ad062146",
   "metadata": {},
   "outputs": [
    {
     "ename": "CircuitError",
     "evalue": "'inverse() not implemented for measure.'",
     "output_type": "error",
     "traceback": [
      "\u001b[0;31m---------------------------------------------------------------------------\u001b[0m",
      "\u001b[0;31mCircuitError\u001b[0m                              Traceback (most recent call last)",
      "Cell \u001b[0;32mIn[21], line 27\u001b[0m\n\u001b[1;32m     25\u001b[0m \u001b[38;5;66;03m# Collect noisy results\u001b[39;00m\n\u001b[1;32m     26\u001b[0m scale_factors \u001b[38;5;241m=\u001b[39m [\u001b[38;5;241m1\u001b[39m, \u001b[38;5;241m1.5\u001b[39m, \u001b[38;5;241m2\u001b[39m]\n\u001b[0;32m---> 27\u001b[0m results \u001b[38;5;241m=\u001b[39m [run_with_noise(qc, sf, noise_model) \u001b[38;5;28;01mfor\u001b[39;00m sf \u001b[38;5;129;01min\u001b[39;00m scale_factors]\n\u001b[1;32m     29\u001b[0m \u001b[38;5;66;03m# Fit and extrapolate\u001b[39;00m\n\u001b[1;32m     30\u001b[0m \u001b[38;5;28;01mdef\u001b[39;00m \u001b[38;5;21mlinear_model\u001b[39m(x, a, b):\n",
      "Cell \u001b[0;32mIn[21], line 27\u001b[0m, in \u001b[0;36m<listcomp>\u001b[0;34m(.0)\u001b[0m\n\u001b[1;32m     25\u001b[0m \u001b[38;5;66;03m# Collect noisy results\u001b[39;00m\n\u001b[1;32m     26\u001b[0m scale_factors \u001b[38;5;241m=\u001b[39m [\u001b[38;5;241m1\u001b[39m, \u001b[38;5;241m1.5\u001b[39m, \u001b[38;5;241m2\u001b[39m]\n\u001b[0;32m---> 27\u001b[0m results \u001b[38;5;241m=\u001b[39m [\u001b[43mrun_with_noise\u001b[49m\u001b[43m(\u001b[49m\u001b[43mqc\u001b[49m\u001b[43m,\u001b[49m\u001b[43m \u001b[49m\u001b[43msf\u001b[49m\u001b[43m,\u001b[49m\u001b[43m \u001b[49m\u001b[43mnoise_model\u001b[49m\u001b[43m)\u001b[49m \u001b[38;5;28;01mfor\u001b[39;00m sf \u001b[38;5;129;01min\u001b[39;00m scale_factors]\n\u001b[1;32m     29\u001b[0m \u001b[38;5;66;03m# Fit and extrapolate\u001b[39;00m\n\u001b[1;32m     30\u001b[0m \u001b[38;5;28;01mdef\u001b[39;00m \u001b[38;5;21mlinear_model\u001b[39m(x, a, b):\n",
      "Cell \u001b[0;32mIn[21], line 19\u001b[0m, in \u001b[0;36mrun_with_noise\u001b[0;34m(qc, scale_factor, noise_model)\u001b[0m\n\u001b[1;32m     18\u001b[0m \u001b[38;5;28;01mdef\u001b[39;00m \u001b[38;5;21mrun_with_noise\u001b[39m(qc, scale_factor, noise_model):\n\u001b[0;32m---> 19\u001b[0m     folded_qc \u001b[38;5;241m=\u001b[39m qc \u001b[38;5;241m+\u001b[39m \u001b[43mqc\u001b[49m\u001b[38;5;241;43m.\u001b[39;49m\u001b[43minverse\u001b[49m\u001b[43m(\u001b[49m\u001b[43m)\u001b[49m \u001b[38;5;241m*\u001b[39m (scale_factor \u001b[38;5;241m-\u001b[39m \u001b[38;5;241m1\u001b[39m)\n\u001b[1;32m     20\u001b[0m     backend \u001b[38;5;241m=\u001b[39m Aer\u001b[38;5;241m.\u001b[39mget_backend(\u001b[38;5;124m'\u001b[39m\u001b[38;5;124mqasm_simulator\u001b[39m\u001b[38;5;124m'\u001b[39m)\n\u001b[1;32m     21\u001b[0m     job \u001b[38;5;241m=\u001b[39m backend\u001b[38;5;241m.\u001b[39mrun(folded_qc, noise_model\u001b[38;5;241m=\u001b[39mnoise_model, shots\u001b[38;5;241m=\u001b[39m\u001b[38;5;241m1024\u001b[39m)\n",
      "File \u001b[0;32m~/qiskit_env/lib/python3.10/site-packages/qiskit/circuit/quantumcircuit.py:1683\u001b[0m, in \u001b[0;36mQuantumCircuit.inverse\u001b[0;34m(self, annotated)\u001b[0m\n\u001b[1;32m   1672\u001b[0m inverse_circ \u001b[38;5;241m=\u001b[39m QuantumCircuit(\n\u001b[1;32m   1673\u001b[0m     \u001b[38;5;28mself\u001b[39m\u001b[38;5;241m.\u001b[39mqubits,\n\u001b[1;32m   1674\u001b[0m     \u001b[38;5;28mself\u001b[39m\u001b[38;5;241m.\u001b[39mclbits,\n\u001b[0;32m   (...)\u001b[0m\n\u001b[1;32m   1678\u001b[0m     global_phase\u001b[38;5;241m=\u001b[39m\u001b[38;5;241m-\u001b[39m\u001b[38;5;28mself\u001b[39m\u001b[38;5;241m.\u001b[39mglobal_phase,\n\u001b[1;32m   1679\u001b[0m )\n\u001b[1;32m   1681\u001b[0m \u001b[38;5;28;01mfor\u001b[39;00m instruction \u001b[38;5;129;01min\u001b[39;00m \u001b[38;5;28mreversed\u001b[39m(\u001b[38;5;28mself\u001b[39m\u001b[38;5;241m.\u001b[39m_data):\n\u001b[1;32m   1682\u001b[0m     inverse_circ\u001b[38;5;241m.\u001b[39m_append(\n\u001b[0;32m-> 1683\u001b[0m         instruction\u001b[38;5;241m.\u001b[39mreplace(operation\u001b[38;5;241m=\u001b[39m\u001b[43minstruction\u001b[49m\u001b[38;5;241;43m.\u001b[39;49m\u001b[43moperation\u001b[49m\u001b[38;5;241;43m.\u001b[39;49m\u001b[43minverse\u001b[49m\u001b[43m(\u001b[49m\u001b[43mannotated\u001b[49m\u001b[38;5;241;43m=\u001b[39;49m\u001b[43mannotated\u001b[49m\u001b[43m)\u001b[49m)\n\u001b[1;32m   1684\u001b[0m     )\n\u001b[1;32m   1685\u001b[0m \u001b[38;5;28;01mreturn\u001b[39;00m inverse_circ\n",
      "File \u001b[0;32m~/qiskit_env/lib/python3.10/site-packages/qiskit/circuit/instruction.py:495\u001b[0m, in \u001b[0;36mInstruction.inverse\u001b[0;34m(self, annotated)\u001b[0m\n\u001b[1;32m    492\u001b[0m     \u001b[38;5;28;01mreturn\u001b[39;00m AnnotatedOperation(\u001b[38;5;28mself\u001b[39m, InverseModifier())\n\u001b[1;32m    494\u001b[0m \u001b[38;5;28;01mif\u001b[39;00m \u001b[38;5;28mself\u001b[39m\u001b[38;5;241m.\u001b[39mdefinition \u001b[38;5;129;01mis\u001b[39;00m \u001b[38;5;28;01mNone\u001b[39;00m:\n\u001b[0;32m--> 495\u001b[0m     \u001b[38;5;28;01mraise\u001b[39;00m CircuitError(\u001b[38;5;124mf\u001b[39m\u001b[38;5;124m\"\u001b[39m\u001b[38;5;124minverse() not implemented for \u001b[39m\u001b[38;5;132;01m{\u001b[39;00m\u001b[38;5;28mself\u001b[39m\u001b[38;5;241m.\u001b[39mname\u001b[38;5;132;01m}\u001b[39;00m\u001b[38;5;124m.\u001b[39m\u001b[38;5;124m\"\u001b[39m)\n\u001b[1;32m    497\u001b[0m \u001b[38;5;28;01mfrom\u001b[39;00m \u001b[38;5;21;01mqiskit\u001b[39;00m\u001b[38;5;21;01m.\u001b[39;00m\u001b[38;5;21;01mcircuit\u001b[39;00m \u001b[38;5;28;01mimport\u001b[39;00m Gate  \u001b[38;5;66;03m# pylint: disable=cyclic-import\u001b[39;00m\n\u001b[1;32m    499\u001b[0m \u001b[38;5;28;01mif\u001b[39;00m \u001b[38;5;28mself\u001b[39m\u001b[38;5;241m.\u001b[39mname\u001b[38;5;241m.\u001b[39mendswith(\u001b[38;5;124m\"\u001b[39m\u001b[38;5;124m_dg\u001b[39m\u001b[38;5;124m\"\u001b[39m):\n",
      "\u001b[0;31mCircuitError\u001b[0m: 'inverse() not implemented for measure.'"
     ]
    }
   ],
   "source": [
    "from qiskit import QuantumCircuit\n",
    "from qiskit_aer import Aer\n",
    "from qiskit_aer.noise import NoiseModel, depolarizing_error\n",
    "import numpy as np\n",
    "from scipy.optimize import curve_fit\n",
    "\n",
    "# Define original quantum circuit\n",
    "qc = QuantumCircuit(1)\n",
    "qc.h(0)\n",
    "qc.measure_all()\n",
    "\n",
    "# Define noise model (depolarizing noise)\n",
    "noise_model = NoiseModel()\n",
    "depolarizing = depolarizing_error(0.05, 1)\n",
    "noise_model.add_all_qubit_quantum_error(depolarizing, ['h'])\n",
    "\n",
    "# Run circuit at different noise levels\n",
    "def run_with_noise(qc, scale_factor, noise_model):\n",
    "    folded_qc = qc + qc.inverse() * (scale_factor - 1)\n",
    "    backend = Aer.get_backend('qasm_simulator')\n",
    "    job = backend.run(folded_qc, noise_model=noise_model, shots=1024)\n",
    "    result = job.result()\n",
    "    return result.get_counts()\n",
    "\n",
    "# Collect noisy results\n",
    "scale_factors = [1, 1.5, 2]\n",
    "results = [run_with_noise(qc, sf, noise_model) for sf in scale_factors]\n",
    "\n",
    "# Fit and extrapolate\n",
    "def linear_model(x, a, b):\n",
    "    return a + b * x\n",
    "\n",
    "counts = np.array([result.get('0', 0) for result in results])\n",
    "params, _ = curve_fit(linear_model, scale_factors, counts)\n",
    "noiseless_result = params[0]\n",
    "print(\"Estimated zero-noise result:\", noiseless_result)\n"
   ]
  },
  {
   "cell_type": "code",
   "execution_count": 22,
   "id": "ed4eb526-e4f9-4d33-94f3-ea68096d6990",
   "metadata": {},
   "outputs": [
    {
     "ename": "TypeError",
     "evalue": "unsupported operand type(s) for *: 'QuantumCircuit' and 'int'",
     "output_type": "error",
     "traceback": [
      "\u001b[0;31m---------------------------------------------------------------------------\u001b[0m",
      "\u001b[0;31mTypeError\u001b[0m                                 Traceback (most recent call last)",
      "Cell \u001b[0;32mIn[22], line 37\u001b[0m\n\u001b[1;32m     35\u001b[0m \u001b[38;5;66;03m# Collect noisy results\u001b[39;00m\n\u001b[1;32m     36\u001b[0m scale_factors \u001b[38;5;241m=\u001b[39m [\u001b[38;5;241m1\u001b[39m, \u001b[38;5;241m1.5\u001b[39m, \u001b[38;5;241m2\u001b[39m]\n\u001b[0;32m---> 37\u001b[0m results \u001b[38;5;241m=\u001b[39m [run_with_noise(qc, sf, noise_model) \u001b[38;5;28;01mfor\u001b[39;00m sf \u001b[38;5;129;01min\u001b[39;00m scale_factors]\n\u001b[1;32m     39\u001b[0m \u001b[38;5;66;03m# Fit and extrapolate\u001b[39;00m\n\u001b[1;32m     40\u001b[0m \u001b[38;5;28;01mdef\u001b[39;00m \u001b[38;5;21mlinear_model\u001b[39m(x, a, b):\n",
      "Cell \u001b[0;32mIn[22], line 37\u001b[0m, in \u001b[0;36m<listcomp>\u001b[0;34m(.0)\u001b[0m\n\u001b[1;32m     35\u001b[0m \u001b[38;5;66;03m# Collect noisy results\u001b[39;00m\n\u001b[1;32m     36\u001b[0m scale_factors \u001b[38;5;241m=\u001b[39m [\u001b[38;5;241m1\u001b[39m, \u001b[38;5;241m1.5\u001b[39m, \u001b[38;5;241m2\u001b[39m]\n\u001b[0;32m---> 37\u001b[0m results \u001b[38;5;241m=\u001b[39m [\u001b[43mrun_with_noise\u001b[49m\u001b[43m(\u001b[49m\u001b[43mqc\u001b[49m\u001b[43m,\u001b[49m\u001b[43m \u001b[49m\u001b[43msf\u001b[49m\u001b[43m,\u001b[49m\u001b[43m \u001b[49m\u001b[43mnoise_model\u001b[49m\u001b[43m)\u001b[49m \u001b[38;5;28;01mfor\u001b[39;00m sf \u001b[38;5;129;01min\u001b[39;00m scale_factors]\n\u001b[1;32m     39\u001b[0m \u001b[38;5;66;03m# Fit and extrapolate\u001b[39;00m\n\u001b[1;32m     40\u001b[0m \u001b[38;5;28;01mdef\u001b[39;00m \u001b[38;5;21mlinear_model\u001b[39m(x, a, b):\n",
      "Cell \u001b[0;32mIn[22], line 29\u001b[0m, in \u001b[0;36mrun_with_noise\u001b[0;34m(qc, scale_factor, noise_model)\u001b[0m\n\u001b[1;32m     28\u001b[0m \u001b[38;5;28;01mdef\u001b[39;00m \u001b[38;5;21mrun_with_noise\u001b[39m(qc, scale_factor, noise_model):\n\u001b[0;32m---> 29\u001b[0m     folded_qc \u001b[38;5;241m=\u001b[39m \u001b[43mcreate_folded_circuit\u001b[49m\u001b[43m(\u001b[49m\u001b[43mqc\u001b[49m\u001b[43m,\u001b[49m\u001b[43m \u001b[49m\u001b[43mscale_factor\u001b[49m\u001b[43m)\u001b[49m\n\u001b[1;32m     30\u001b[0m     backend \u001b[38;5;241m=\u001b[39m Aer\u001b[38;5;241m.\u001b[39mget_backend(\u001b[38;5;124m'\u001b[39m\u001b[38;5;124mqasm_simulator\u001b[39m\u001b[38;5;124m'\u001b[39m)\n\u001b[1;32m     31\u001b[0m     job \u001b[38;5;241m=\u001b[39m backend\u001b[38;5;241m.\u001b[39mrun(folded_qc, noise_model\u001b[38;5;241m=\u001b[39mnoise_model, shots\u001b[38;5;241m=\u001b[39m\u001b[38;5;241m1024\u001b[39m)\n",
      "Cell \u001b[0;32mIn[22], line 22\u001b[0m, in \u001b[0;36mcreate_folded_circuit\u001b[0;34m(original_qc, scale_factor)\u001b[0m\n\u001b[1;32m     20\u001b[0m gates_only_qc \u001b[38;5;241m=\u001b[39m original_qc\u001b[38;5;241m.\u001b[39mcopy()\n\u001b[1;32m     21\u001b[0m gates_only_qc\u001b[38;5;241m.\u001b[39mdata \u001b[38;5;241m=\u001b[39m gates_only_qc\u001b[38;5;241m.\u001b[39mdata[:\u001b[38;5;241m-\u001b[39m\u001b[38;5;241m1\u001b[39m]  \u001b[38;5;66;03m# Remove measurement operations\u001b[39;00m\n\u001b[0;32m---> 22\u001b[0m folded_qc \u001b[38;5;241m=\u001b[39m gates_only_qc \u001b[38;5;241m+\u001b[39m \u001b[43mgates_only_qc\u001b[49m\u001b[38;5;241;43m.\u001b[39;49m\u001b[43minverse\u001b[49m\u001b[43m(\u001b[49m\u001b[43m)\u001b[49m\u001b[43m \u001b[49m\u001b[38;5;241;43m*\u001b[39;49m\u001b[43m \u001b[49m\u001b[43m(\u001b[49m\u001b[43mscale_factor\u001b[49m\u001b[43m \u001b[49m\u001b[38;5;241;43m-\u001b[39;49m\u001b[43m \u001b[49m\u001b[38;5;241;43m1\u001b[39;49m\u001b[43m)\u001b[49m\n\u001b[1;32m     23\u001b[0m \u001b[38;5;66;03m# Add measurement back\u001b[39;00m\n\u001b[1;32m     24\u001b[0m folded_qc\u001b[38;5;241m.\u001b[39mmeasure_all()\n",
      "\u001b[0;31mTypeError\u001b[0m: unsupported operand type(s) for *: 'QuantumCircuit' and 'int'"
     ]
    }
   ],
   "source": [
    "from qiskit import QuantumCircuit\n",
    "from qiskit_aer import Aer\n",
    "from qiskit_aer.noise import NoiseModel, depolarizing_error\n",
    "import numpy as np\n",
    "from scipy.optimize import curve_fit\n",
    "\n",
    "# Define the original quantum circuit\n",
    "qc = QuantumCircuit(1, 1)\n",
    "qc.h(0)  # Apply Hadamard gate\n",
    "qc.measure(0, 0)  # Measure the qubit\n",
    "\n",
    "# Define noise model (depolarizing noise)\n",
    "noise_model = NoiseModel()\n",
    "depolarizing = depolarizing_error(0.05, 1)\n",
    "noise_model.add_all_qubit_quantum_error(depolarizing, ['h'])\n",
    "\n",
    "# Create a folded circuit (excluding the measurement)\n",
    "def create_folded_circuit(original_qc, scale_factor):\n",
    "    # Exclude measurement for inversion\n",
    "    gates_only_qc = original_qc.copy()\n",
    "    gates_only_qc.data = gates_only_qc.data[:-1]  # Remove measurement operations\n",
    "    folded_qc = gates_only_qc + gates_only_qc.inverse() * (scale_factor - 1)\n",
    "    # Add measurement back\n",
    "    folded_qc.measure_all()\n",
    "    return folded_qc\n",
    "\n",
    "# Run the circuit at different noise levels\n",
    "def run_with_noise(qc, scale_factor, noise_model):\n",
    "    folded_qc = create_folded_circuit(qc, scale_factor)\n",
    "    backend = Aer.get_backend('qasm_simulator')\n",
    "    job = backend.run(folded_qc, noise_model=noise_model, shots=1024)\n",
    "    result = job.result()\n",
    "    return result.get_counts()\n",
    "\n",
    "# Collect noisy results\n",
    "scale_factors = [1, 1.5, 2]\n",
    "results = [run_with_noise(qc, sf, noise_model) for sf in scale_factors]\n",
    "\n",
    "# Fit and extrapolate\n",
    "def linear_model(x, a, b):\n",
    "    return a + b * x\n",
    "\n",
    "counts = np.array([result.get('0', 0) for result in results])  # Use `.get` to handle missing keys\n",
    "params, _ = curve_fit(linear_model, scale_factors, counts)\n",
    "noiseless_result = params[0]\n",
    "print(\"Estimated zero-noise result:\", noiseless_result)\n"
   ]
  },
  {
   "cell_type": "code",
   "execution_count": 23,
   "id": "2985b22e-cc15-4be8-a809-7205c9ebc790",
   "metadata": {},
   "outputs": [
    {
     "ename": "TypeError",
     "evalue": "unsupported operand type(s) for +=: 'QuantumCircuit' and 'QuantumCircuit'",
     "output_type": "error",
     "traceback": [
      "\u001b[0;31m---------------------------------------------------------------------------\u001b[0m",
      "\u001b[0;31mTypeError\u001b[0m                                 Traceback (most recent call last)",
      "Cell \u001b[0;32mIn[23], line 40\u001b[0m\n\u001b[1;32m     38\u001b[0m \u001b[38;5;66;03m# Collect noisy results\u001b[39;00m\n\u001b[1;32m     39\u001b[0m scale_factors \u001b[38;5;241m=\u001b[39m [\u001b[38;5;241m1\u001b[39m, \u001b[38;5;241m1.5\u001b[39m, \u001b[38;5;241m2\u001b[39m]\n\u001b[0;32m---> 40\u001b[0m results \u001b[38;5;241m=\u001b[39m [run_with_noise(qc, sf, noise_model) \u001b[38;5;28;01mfor\u001b[39;00m sf \u001b[38;5;129;01min\u001b[39;00m scale_factors]\n\u001b[1;32m     42\u001b[0m \u001b[38;5;66;03m# Fit and extrapolate\u001b[39;00m\n\u001b[1;32m     43\u001b[0m \u001b[38;5;28;01mdef\u001b[39;00m \u001b[38;5;21mlinear_model\u001b[39m(x, a, b):\n",
      "Cell \u001b[0;32mIn[23], line 40\u001b[0m, in \u001b[0;36m<listcomp>\u001b[0;34m(.0)\u001b[0m\n\u001b[1;32m     38\u001b[0m \u001b[38;5;66;03m# Collect noisy results\u001b[39;00m\n\u001b[1;32m     39\u001b[0m scale_factors \u001b[38;5;241m=\u001b[39m [\u001b[38;5;241m1\u001b[39m, \u001b[38;5;241m1.5\u001b[39m, \u001b[38;5;241m2\u001b[39m]\n\u001b[0;32m---> 40\u001b[0m results \u001b[38;5;241m=\u001b[39m [\u001b[43mrun_with_noise\u001b[49m\u001b[43m(\u001b[49m\u001b[43mqc\u001b[49m\u001b[43m,\u001b[49m\u001b[43m \u001b[49m\u001b[43msf\u001b[49m\u001b[43m,\u001b[49m\u001b[43m \u001b[49m\u001b[43mnoise_model\u001b[49m\u001b[43m)\u001b[49m \u001b[38;5;28;01mfor\u001b[39;00m sf \u001b[38;5;129;01min\u001b[39;00m scale_factors]\n\u001b[1;32m     42\u001b[0m \u001b[38;5;66;03m# Fit and extrapolate\u001b[39;00m\n\u001b[1;32m     43\u001b[0m \u001b[38;5;28;01mdef\u001b[39;00m \u001b[38;5;21mlinear_model\u001b[39m(x, a, b):\n",
      "Cell \u001b[0;32mIn[23], line 32\u001b[0m, in \u001b[0;36mrun_with_noise\u001b[0;34m(qc, scale_factor, noise_model)\u001b[0m\n\u001b[1;32m     31\u001b[0m \u001b[38;5;28;01mdef\u001b[39;00m \u001b[38;5;21mrun_with_noise\u001b[39m(qc, scale_factor, noise_model):\n\u001b[0;32m---> 32\u001b[0m     folded_qc \u001b[38;5;241m=\u001b[39m \u001b[43mcreate_folded_circuit\u001b[49m\u001b[43m(\u001b[49m\u001b[43mqc\u001b[49m\u001b[43m,\u001b[49m\u001b[43m \u001b[49m\u001b[43mscale_factor\u001b[49m\u001b[43m)\u001b[49m\n\u001b[1;32m     33\u001b[0m     backend \u001b[38;5;241m=\u001b[39m Aer\u001b[38;5;241m.\u001b[39mget_backend(\u001b[38;5;124m'\u001b[39m\u001b[38;5;124mqasm_simulator\u001b[39m\u001b[38;5;124m'\u001b[39m)\n\u001b[1;32m     34\u001b[0m     job \u001b[38;5;241m=\u001b[39m backend\u001b[38;5;241m.\u001b[39mrun(folded_qc, noise_model\u001b[38;5;241m=\u001b[39mnoise_model, shots\u001b[38;5;241m=\u001b[39m\u001b[38;5;241m1024\u001b[39m)\n",
      "Cell \u001b[0;32mIn[23], line 25\u001b[0m, in \u001b[0;36mcreate_folded_circuit\u001b[0;34m(original_qc, scale_factor)\u001b[0m\n\u001b[1;32m     23\u001b[0m folded_qc \u001b[38;5;241m=\u001b[39m gates_only_qc\n\u001b[1;32m     24\u001b[0m \u001b[38;5;28;01mfor\u001b[39;00m _ \u001b[38;5;129;01min\u001b[39;00m \u001b[38;5;28mrange\u001b[39m(\u001b[38;5;28mint\u001b[39m(scale_factor \u001b[38;5;241m-\u001b[39m \u001b[38;5;241m1\u001b[39m)):\n\u001b[0;32m---> 25\u001b[0m     folded_qc \u001b[38;5;241m+\u001b[39m\u001b[38;5;241m=\u001b[39m gates_only_qc\u001b[38;5;241m.\u001b[39minverse()\n\u001b[1;32m     26\u001b[0m \u001b[38;5;66;03m# Add measurement back\u001b[39;00m\n\u001b[1;32m     27\u001b[0m folded_qc\u001b[38;5;241m.\u001b[39mmeasure_all()\n",
      "\u001b[0;31mTypeError\u001b[0m: unsupported operand type(s) for +=: 'QuantumCircuit' and 'QuantumCircuit'"
     ]
    }
   ],
   "source": [
    "from qiskit import QuantumCircuit\n",
    "from qiskit_aer import Aer\n",
    "from qiskit_aer.noise import NoiseModel, depolarizing_error\n",
    "import numpy as np\n",
    "from scipy.optimize import curve_fit\n",
    "\n",
    "# Define the original quantum circuit\n",
    "qc = QuantumCircuit(1, 1)\n",
    "qc.h(0)  # Apply Hadamard gate\n",
    "qc.measure(0, 0)  # Measure the qubit\n",
    "\n",
    "# Define noise model (depolarizing noise)\n",
    "noise_model = NoiseModel()\n",
    "depolarizing = depolarizing_error(0.05, 1)\n",
    "noise_model.add_all_qubit_quantum_error(depolarizing, ['h'])\n",
    "\n",
    "# Create a folded circuit (excluding the measurement)\n",
    "def create_folded_circuit(original_qc, scale_factor):\n",
    "    # Exclude measurement for inversion\n",
    "    gates_only_qc = original_qc.copy()\n",
    "    gates_only_qc.data = gates_only_qc.data[:-1]  # Remove measurement operations\n",
    "    # Concatenate the circuit inversions to simulate folding\n",
    "    folded_qc = gates_only_qc\n",
    "    for _ in range(int(scale_factor - 1)):\n",
    "        folded_qc += gates_only_qc.inverse()\n",
    "    # Add measurement back\n",
    "    folded_qc.measure_all()\n",
    "    return folded_qc\n",
    "\n",
    "# Run the circuit at different noise levels\n",
    "def run_with_noise(qc, scale_factor, noise_model):\n",
    "    folded_qc = create_folded_circuit(qc, scale_factor)\n",
    "    backend = Aer.get_backend('qasm_simulator')\n",
    "    job = backend.run(folded_qc, noise_model=noise_model, shots=1024)\n",
    "    result = job.result()\n",
    "    return result.get_counts()\n",
    "\n",
    "# Collect noisy results\n",
    "scale_factors = [1, 1.5, 2]\n",
    "results = [run_with_noise(qc, sf, noise_model) for sf in scale_factors]\n",
    "\n",
    "# Fit and extrapolate\n",
    "def linear_model(x, a, b):\n",
    "    return a + b * x\n",
    "\n",
    "counts = np.array([result.get('0', 0) for result in results])  # Use `.get` to handle missing keys\n",
    "params, _ = curve_fit(linear_model, scale_factors, counts)\n",
    "noiseless_result = params[0]\n",
    "print(\"Estimated zero-noise result:\", noiseless_result)\n"
   ]
  },
  {
   "cell_type": "code",
   "execution_count": 24,
   "id": "8fc1ec5e-313b-4320-ab7b-daa2e0db28bf",
   "metadata": {},
   "outputs": [
    {
     "ename": "TypeError",
     "evalue": "unsupported operand type(s) for +: 'QuantumCircuit' and 'QuantumCircuit'",
     "output_type": "error",
     "traceback": [
      "\u001b[0;31m---------------------------------------------------------------------------\u001b[0m",
      "\u001b[0;31mTypeError\u001b[0m                                 Traceback (most recent call last)",
      "Cell \u001b[0;32mIn[24], line 40\u001b[0m\n\u001b[1;32m     38\u001b[0m \u001b[38;5;66;03m# Collect noisy results\u001b[39;00m\n\u001b[1;32m     39\u001b[0m scale_factors \u001b[38;5;241m=\u001b[39m [\u001b[38;5;241m1\u001b[39m, \u001b[38;5;241m1.5\u001b[39m, \u001b[38;5;241m2\u001b[39m]\n\u001b[0;32m---> 40\u001b[0m results \u001b[38;5;241m=\u001b[39m [run_with_noise(qc, sf, noise_model) \u001b[38;5;28;01mfor\u001b[39;00m sf \u001b[38;5;129;01min\u001b[39;00m scale_factors]\n\u001b[1;32m     42\u001b[0m \u001b[38;5;66;03m# Fit and extrapolate\u001b[39;00m\n\u001b[1;32m     43\u001b[0m \u001b[38;5;28;01mdef\u001b[39;00m \u001b[38;5;21mlinear_model\u001b[39m(x, a, b):\n",
      "Cell \u001b[0;32mIn[24], line 40\u001b[0m, in \u001b[0;36m<listcomp>\u001b[0;34m(.0)\u001b[0m\n\u001b[1;32m     38\u001b[0m \u001b[38;5;66;03m# Collect noisy results\u001b[39;00m\n\u001b[1;32m     39\u001b[0m scale_factors \u001b[38;5;241m=\u001b[39m [\u001b[38;5;241m1\u001b[39m, \u001b[38;5;241m1.5\u001b[39m, \u001b[38;5;241m2\u001b[39m]\n\u001b[0;32m---> 40\u001b[0m results \u001b[38;5;241m=\u001b[39m [\u001b[43mrun_with_noise\u001b[49m\u001b[43m(\u001b[49m\u001b[43mqc\u001b[49m\u001b[43m,\u001b[49m\u001b[43m \u001b[49m\u001b[43msf\u001b[49m\u001b[43m,\u001b[49m\u001b[43m \u001b[49m\u001b[43mnoise_model\u001b[49m\u001b[43m)\u001b[49m \u001b[38;5;28;01mfor\u001b[39;00m sf \u001b[38;5;129;01min\u001b[39;00m scale_factors]\n\u001b[1;32m     42\u001b[0m \u001b[38;5;66;03m# Fit and extrapolate\u001b[39;00m\n\u001b[1;32m     43\u001b[0m \u001b[38;5;28;01mdef\u001b[39;00m \u001b[38;5;21mlinear_model\u001b[39m(x, a, b):\n",
      "Cell \u001b[0;32mIn[24], line 32\u001b[0m, in \u001b[0;36mrun_with_noise\u001b[0;34m(qc, scale_factor, noise_model)\u001b[0m\n\u001b[1;32m     31\u001b[0m \u001b[38;5;28;01mdef\u001b[39;00m \u001b[38;5;21mrun_with_noise\u001b[39m(qc, scale_factor, noise_model):\n\u001b[0;32m---> 32\u001b[0m     folded_qc \u001b[38;5;241m=\u001b[39m \u001b[43mcreate_folded_circuit\u001b[49m\u001b[43m(\u001b[49m\u001b[43mqc\u001b[49m\u001b[43m,\u001b[49m\u001b[43m \u001b[49m\u001b[43mscale_factor\u001b[49m\u001b[43m)\u001b[49m\n\u001b[1;32m     33\u001b[0m     backend \u001b[38;5;241m=\u001b[39m Aer\u001b[38;5;241m.\u001b[39mget_backend(\u001b[38;5;124m'\u001b[39m\u001b[38;5;124mqasm_simulator\u001b[39m\u001b[38;5;124m'\u001b[39m)\n\u001b[1;32m     34\u001b[0m     job \u001b[38;5;241m=\u001b[39m backend\u001b[38;5;241m.\u001b[39mrun(folded_qc, noise_model\u001b[38;5;241m=\u001b[39mnoise_model, shots\u001b[38;5;241m=\u001b[39m\u001b[38;5;241m1024\u001b[39m)\n",
      "Cell \u001b[0;32mIn[24], line 25\u001b[0m, in \u001b[0;36mcreate_folded_circuit\u001b[0;34m(original_qc, scale_factor)\u001b[0m\n\u001b[1;32m     23\u001b[0m folded_qc \u001b[38;5;241m=\u001b[39m gates_only_qc\n\u001b[1;32m     24\u001b[0m \u001b[38;5;28;01mfor\u001b[39;00m _ \u001b[38;5;129;01min\u001b[39;00m \u001b[38;5;28mrange\u001b[39m(\u001b[38;5;28mint\u001b[39m(scale_factor \u001b[38;5;241m-\u001b[39m \u001b[38;5;241m1\u001b[39m)):\n\u001b[0;32m---> 25\u001b[0m     folded_qc \u001b[38;5;241m=\u001b[39m \u001b[43mfolded_qc\u001b[49m\u001b[43m \u001b[49m\u001b[38;5;241;43m+\u001b[39;49m\u001b[43m \u001b[49m\u001b[43mgates_only_qc\u001b[49m\u001b[38;5;241;43m.\u001b[39;49m\u001b[43minverse\u001b[49m\u001b[43m(\u001b[49m\u001b[43m)\u001b[49m  \u001b[38;5;66;03m# Concatenate using +\u001b[39;00m\n\u001b[1;32m     26\u001b[0m \u001b[38;5;66;03m# Add measurement back\u001b[39;00m\n\u001b[1;32m     27\u001b[0m folded_qc\u001b[38;5;241m.\u001b[39mmeasure_all()\n",
      "\u001b[0;31mTypeError\u001b[0m: unsupported operand type(s) for +: 'QuantumCircuit' and 'QuantumCircuit'"
     ]
    }
   ],
   "source": [
    "from qiskit import QuantumCircuit\n",
    "from qiskit_aer import Aer\n",
    "from qiskit_aer.noise import NoiseModel, depolarizing_error\n",
    "import numpy as np\n",
    "from scipy.optimize import curve_fit\n",
    "\n",
    "# Define the original quantum circuit\n",
    "qc = QuantumCircuit(1, 1)\n",
    "qc.h(0)  # Apply Hadamard gate\n",
    "qc.measure(0, 0)  # Measure the qubit\n",
    "\n",
    "# Define noise model (depolarizing noise)\n",
    "noise_model = NoiseModel()\n",
    "depolarizing = depolarizing_error(0.05, 1)\n",
    "noise_model.add_all_qubit_quantum_error(depolarizing, ['h'])\n",
    "\n",
    "# Create a folded circuit (excluding the measurement)\n",
    "def create_folded_circuit(original_qc, scale_factor):\n",
    "    # Exclude measurement for inversion\n",
    "    gates_only_qc = original_qc.copy()\n",
    "    gates_only_qc.data = gates_only_qc.data[:-1]  # Remove measurement operations\n",
    "    # Initialize folded circuit\n",
    "    folded_qc = gates_only_qc\n",
    "    for _ in range(int(scale_factor - 1)):\n",
    "        folded_qc = folded_qc + gates_only_qc.inverse()  # Concatenate using +\n",
    "    # Add measurement back\n",
    "    folded_qc.measure_all()\n",
    "    return folded_qc\n",
    "\n",
    "# Run the circuit at different noise levels\n",
    "def run_with_noise(qc, scale_factor, noise_model):\n",
    "    folded_qc = create_folded_circuit(qc, scale_factor)\n",
    "    backend = Aer.get_backend('qasm_simulator')\n",
    "    job = backend.run(folded_qc, noise_model=noise_model, shots=1024)\n",
    "    result = job.result()\n",
    "    return result.get_counts()\n",
    "\n",
    "# Collect noisy results\n",
    "scale_factors = [1, 1.5, 2]\n",
    "results = [run_with_noise(qc, sf, noise_model) for sf in scale_factors]\n",
    "\n",
    "# Fit and extrapolate\n",
    "def linear_model(x, a, b):\n",
    "    return a + b * x\n",
    "\n",
    "counts = np.array([result.get('0', 0) for result in results])  # Use `.get` to handle missing keys\n",
    "params, _ = curve_fit(linear_model, scale_factors, counts)\n",
    "noiseless_result = params[0]\n",
    "print(\"Estimated zero-noise result:\", noiseless_result)\n"
   ]
  },
  {
   "cell_type": "code",
   "execution_count": 25,
   "id": "f68506d9-1b96-45f6-9904-393c98a264e8",
   "metadata": {},
   "outputs": [
    {
     "name": "stdout",
     "output_type": "stream",
     "text": [
      "Estimated zero-noise result: 0.0\n"
     ]
    }
   ],
   "source": [
    "from qiskit import QuantumCircuit\n",
    "from qiskit_aer import Aer\n",
    "from qiskit_aer.noise import NoiseModel, depolarizing_error\n",
    "import numpy as np\n",
    "from scipy.optimize import curve_fit\n",
    "\n",
    "# Define the original quantum circuit\n",
    "qc = QuantumCircuit(1, 1)\n",
    "qc.h(0)  # Apply Hadamard gate\n",
    "qc.measure(0, 0)  # Measure the qubit\n",
    "\n",
    "# Define noise model (depolarizing noise)\n",
    "noise_model = NoiseModel()\n",
    "depolarizing = depolarizing_error(0.05, 1)\n",
    "noise_model.add_all_qubit_quantum_error(depolarizing, ['h'])\n",
    "\n",
    "# Create a folded circuit (excluding the measurement)\n",
    "def create_folded_circuit(original_qc, scale_factor):\n",
    "    # Exclude measurement for inversion\n",
    "    gates_only_qc = original_qc.copy()\n",
    "    gates_only_qc.data = gates_only_qc.data[:-1]  # Remove measurement operations\n",
    "    # Initialize folded circuit\n",
    "    folded_qc = gates_only_qc\n",
    "    for _ in range(int(scale_factor - 1)):\n",
    "        folded_qc = folded_qc.compose(gates_only_qc.inverse())  # Use compose for concatenation\n",
    "    # Add measurement back\n",
    "    folded_qc.measure_all()\n",
    "    return folded_qc\n",
    "\n",
    "# Run the circuit at different noise levels\n",
    "def run_with_noise(qc, scale_factor, noise_model):\n",
    "    folded_qc = create_folded_circuit(qc, scale_factor)\n",
    "    backend = Aer.get_backend('qasm_simulator')\n",
    "    job = backend.run(folded_qc, noise_model=noise_model, shots=1024)\n",
    "    result = job.result()\n",
    "    return result.get_counts()\n",
    "\n",
    "# Collect noisy results\n",
    "scale_factors = [1, 1.5, 2]\n",
    "results = [run_with_noise(qc, sf, noise_model) for sf in scale_factors]\n",
    "\n",
    "# Fit and extrapolate\n",
    "def linear_model(x, a, b):\n",
    "    return a + b * x\n",
    "\n",
    "counts = np.array([result.get('0', 0) for result in results])  # Use `.get` to handle missing keys\n",
    "params, _ = curve_fit(linear_model, scale_factors, counts)\n",
    "noiseless_result = params[0]\n",
    "print(\"Estimated zero-noise result:\", noiseless_result)\n"
   ]
  },
  {
   "cell_type": "code",
   "execution_count": 26,
   "id": "5c431ecb-9b28-4e50-bac0-e7182e123b6a",
   "metadata": {},
   "outputs": [
    {
     "ename": "ModuleNotFoundError",
     "evalue": "No module named 'matplotlib'",
     "output_type": "error",
     "traceback": [
      "\u001b[0;31m---------------------------------------------------------------------------\u001b[0m",
      "\u001b[0;31mModuleNotFoundError\u001b[0m                       Traceback (most recent call last)",
      "Cell \u001b[0;32mIn[26], line 6\u001b[0m\n\u001b[1;32m      4\u001b[0m \u001b[38;5;28;01mimport\u001b[39;00m \u001b[38;5;21;01mnumpy\u001b[39;00m \u001b[38;5;28;01mas\u001b[39;00m \u001b[38;5;21;01mnp\u001b[39;00m\n\u001b[1;32m      5\u001b[0m \u001b[38;5;28;01mfrom\u001b[39;00m \u001b[38;5;21;01mscipy\u001b[39;00m\u001b[38;5;21;01m.\u001b[39;00m\u001b[38;5;21;01moptimize\u001b[39;00m \u001b[38;5;28;01mimport\u001b[39;00m curve_fit\n\u001b[0;32m----> 6\u001b[0m \u001b[38;5;28;01mimport\u001b[39;00m \u001b[38;5;21;01mmatplotlib\u001b[39;00m\u001b[38;5;21;01m.\u001b[39;00m\u001b[38;5;21;01mpyplot\u001b[39;00m \u001b[38;5;28;01mas\u001b[39;00m \u001b[38;5;21;01mplt\u001b[39;00m\n\u001b[1;32m      8\u001b[0m \u001b[38;5;66;03m# Define the original quantum circuit\u001b[39;00m\n\u001b[1;32m      9\u001b[0m qc \u001b[38;5;241m=\u001b[39m QuantumCircuit(\u001b[38;5;241m1\u001b[39m, \u001b[38;5;241m1\u001b[39m)\n",
      "\u001b[0;31mModuleNotFoundError\u001b[0m: No module named 'matplotlib'"
     ]
    }
   ],
   "source": [
    "from qiskit import QuantumCircuit\n",
    "from qiskit_aer import Aer\n",
    "from qiskit_aer.noise import NoiseModel, depolarizing_error\n",
    "import numpy as np\n",
    "from scipy.optimize import curve_fit\n",
    "import matplotlib.pyplot as plt\n",
    "\n",
    "# Define the original quantum circuit\n",
    "qc = QuantumCircuit(1, 1)\n",
    "qc.h(0)  # Apply Hadamard gate\n",
    "qc.measure(0, 0)  # Measure the qubit\n",
    "\n",
    "# Define noise model (depolarizing noise)\n",
    "noise_model = NoiseModel()\n",
    "depolarizing = depolarizing_error(0.05, 1)\n",
    "noise_model.add_all_qubit_quantum_error(depolarizing, ['h'])\n",
    "\n",
    "# Create a folded circuit (excluding the measurement)\n",
    "def create_folded_circuit(original_qc, scale_factor):\n",
    "    gates_only_qc = original_qc.copy()\n",
    "    gates_only_qc.data = gates_only_qc.data[:-1]  # Remove measurement operations\n",
    "    folded_qc = gates_only_qc\n",
    "    for _ in range(int(scale_factor - 1)):\n",
    "        folded_qc = folded_qc.compose(gates_only_qc.inverse())  # Use compose for concatenation\n",
    "    folded_qc.measure_all()\n",
    "    return folded_qc\n",
    "\n",
    "# Run the circuit at different noise levels\n",
    "def run_with_noise(qc, scale_factor, noise_model):\n",
    "    folded_qc = create_folded_circuit(qc, scale_factor)\n",
    "    backend = Aer.get_backend('qasm_simulator')\n",
    "    job = backend.run(folded_qc, noise_model=noise_model, shots=1024)\n",
    "    result = job.result()\n",
    "    return result.get_counts()\n",
    "\n",
    "# Collect noisy results\n",
    "scale_factors = [1, 1.5, 2]\n",
    "results = [run_with_noise(qc, sf, noise_model) for sf in scale_factors]\n",
    "\n",
    "# Fit and extrapolate\n",
    "def linear_model(x, a, b):\n",
    "    return a + b * x\n",
    "\n",
    "counts = np.array([result.get('0', 0) for result in results])  # Use `.get` to handle missing keys\n",
    "params, _ = curve_fit(linear_model, scale_factors, counts)\n",
    "\n",
    "# Extract fit parameters\n",
    "a, b = params\n",
    "noiseless_result = a\n",
    "print(\"Estimated zero-noise result:\", noiseless_result)\n",
    "\n",
    "# Plot results\n",
    "plt.figure(figsize=(8, 6))\n",
    "plt.scatter(scale_factors, counts, label=\"Noisy Results\", color=\"blue\")\n",
    "plt.plot(scale_factors, linear_model(np.array(scale_factors), a, b), label=\"Linear Fit\", color=\"red\")\n",
    "plt.axhline(y=noiseless_result, color=\"green\", linestyle=\"--\", label=\"Zero-Noise Estimate\")\n",
    "plt.xlabel(\"Scale Factor\")\n",
    "plt.ylabel(\"Counts for '0'\")\n",
    "plt.title(\"Extrapolation to Zero Noise\")\n",
    "plt.legend()\n",
    "plt.grid(True)\n",
    "plt.show()\n"
   ]
  },
  {
   "cell_type": "code",
   "execution_count": 27,
   "id": "d9f39631-8800-410a-bf00-62d8fce4ba43",
   "metadata": {},
   "outputs": [
    {
     "name": "stdout",
     "output_type": "stream",
     "text": [
      "Estimated zero-noise result: 0.0\n"
     ]
    },
    {
     "data": {
      "image/png": "[encoded data removed]",
      "text/plain": [
       "<Figure size 800x600 with 1 Axes>"
      ]
     },
     "metadata": {},
     "output_type": "display_data"
    }
   ],
   "source": [
    "from qiskit import QuantumCircuit\n",
    "from qiskit_aer import Aer\n",
    "from qiskit_aer.noise import NoiseModel, depolarizing_error\n",
    "import numpy as np\n",
    "from scipy.optimize import curve_fit\n",
    "import matplotlib.pyplot as plt\n",
    "\n",
    "# Define the original quantum circuit\n",
    "qc = QuantumCircuit(1, 1)\n",
    "qc.h(0)  # Apply Hadamard gate\n",
    "qc.measure(0, 0)  # Measure the qubit\n",
    "\n",
    "# Define noise model (depolarizing noise)\n",
    "noise_model = NoiseModel()\n",
    "depolarizing = depolarizing_error(0.05, 1)\n",
    "noise_model.add_all_qubit_quantum_error(depolarizing, ['h'])\n",
    "\n",
    "# Create a folded circuit (excluding the measurement)\n",
    "def create_folded_circuit(original_qc, scale_factor):\n",
    "    gates_only_qc = original_qc.copy()\n",
    "    gates_only_qc.data = gates_only_qc.data[:-1]  # Remove measurement operations\n",
    "    folded_qc = gates_only_qc\n",
    "    for _ in range(int(scale_factor - 1)):\n",
    "        folded_qc = folded_qc.compose(gates_only_qc.inverse())  # Use compose for concatenation\n",
    "    folded_qc.measure_all()\n",
    "    return folded_qc\n",
    "\n",
    "# Run the circuit at different noise levels\n",
    "def run_with_noise(qc, scale_factor, noise_model):\n",
    "    folded_qc = create_folded_circuit(qc, scale_factor)\n",
    "    backend = Aer.get_backend('qasm_simulator')\n",
    "    job = backend.run(folded_qc, noise_model=noise_model, shots=1024)\n",
    "    result = job.result()\n",
    "    return result.get_counts()\n",
    "\n",
    "# Collect noisy results\n",
    "scale_factors = [1, 1.5, 2]\n",
    "results = [run_with_noise(qc, sf, noise_model) for sf in scale_factors]\n",
    "\n",
    "# Fit and extrapolate\n",
    "def linear_model(x, a, b):\n",
    "    return a + b * x\n",
    "\n",
    "counts = np.array([result.get('0', 0) for result in results])  # Use `.get` to handle missing keys\n",
    "params, _ = curve_fit(linear_model, scale_factors, counts)\n",
    "\n",
    "# Extract fit parameters\n",
    "a, b = params\n",
    "noiseless_result = a\n",
    "print(\"Estimated zero-noise result:\", noiseless_result)\n",
    "\n",
    "# Plot results\n",
    "plt.figure(figsize=(8, 6))\n",
    "plt.scatter(scale_factors, counts, label=\"Noisy Results\", color=\"blue\")\n",
    "plt.plot(scale_factors, linear_model(np.array(scale_factors), a, b), label=\"Linear Fit\", color=\"red\")\n",
    "plt.axhline(y=noiseless_result, color=\"green\", linestyle=\"--\", label=\"Zero-Noise Estimate\")\n",
    "plt.xlabel(\"Scale Factor\")\n",
    "plt.ylabel(\"Counts for '0'\")\n",
    "plt.title(\"Extrapolation to Zero Noise\")\n",
    "plt.legend()\n",
    "plt.grid(True)\n",
    "plt.show()\n"
   ]
  },
  {
   "cell_type": "code",
   "execution_count": 28,
   "id": "58c3f358-d02b-4949-a31b-ddd2dfd5fff2",
   "metadata": {},
   "outputs": [
    {
     "name": "stdout",
     "output_type": "stream",
     "text": [
      "Estimated zero-noise result: 0.0\n",
      "True Result: 512\n",
      "Noisy Result: 0\n",
      "Noisy Error: 512\n",
      "Zero-Noise Error: 512.0\n",
      "Error Reduction: 0.00%\n"
     ]
    },
    {
     "data": {
      "image/png": "[encoded data removed]",
      "text/plain": [
       "<Figure size 1000x600 with 1 Axes>"
      ]
     },
     "metadata": {},
     "output_type": "display_data"
    },
    {
     "data": {
      "image/png": "[encoded data removed]",
      "text/plain": [
       "<Figure size 800x500 with 1 Axes>"
      ]
     },
     "metadata": {},
     "output_type": "display_data"
    }
   ],
   "source": [
    "from qiskit import QuantumCircuit\n",
    "from qiskit_aer import Aer\n",
    "from qiskit_aer.noise import NoiseModel, depolarizing_error\n",
    "import numpy as np\n",
    "from scipy.optimize import curve_fit\n",
    "import matplotlib.pyplot as plt\n",
    "\n",
    "# Define the original quantum circuit (a placeholder for real-world applications like QAOA or VQA)\n",
    "qc = QuantumCircuit(1, 1)\n",
    "qc.h(0)  # Apply Hadamard gate\n",
    "qc.measure(0, 0)  # Measure the qubit\n",
    "\n",
    "# Define noise model (depolarizing noise)\n",
    "noise_model = NoiseModel()\n",
    "depolarizing = depolarizing_error(0.05, 1)\n",
    "noise_model.add_all_qubit_quantum_error(depolarizing, ['h'])\n",
    "\n",
    "# Create a folded circuit (excluding the measurement)\n",
    "def create_folded_circuit(original_qc, scale_factor):\n",
    "    gates_only_qc = original_qc.copy()\n",
    "    gates_only_qc.data = gates_only_qc.data[:-1]  # Remove measurement operations\n",
    "    folded_qc = gates_only_qc\n",
    "    for _ in range(int(scale_factor - 1)):\n",
    "        folded_qc = folded_qc.compose(gates_only_qc.inverse())  # Use compose for concatenation\n",
    "    folded_qc.measure_all()\n",
    "    return folded_qc\n",
    "\n",
    "# Run the circuit at different noise levels\n",
    "def run_with_noise(qc, scale_factor, noise_model):\n",
    "    folded_qc = create_folded_circuit(qc, scale_factor)\n",
    "    backend = Aer.get_backend('qasm_simulator')\n",
    "    job = backend.run(folded_qc, noise_model=noise_model, shots=1024)\n",
    "    result = job.result()\n",
    "    return result.get_counts()\n",
    "\n",
    "# Collect noisy results\n",
    "scale_factors = [1, 1.5, 2]\n",
    "results = [run_with_noise(qc, sf, noise_model) for sf in scale_factors]\n",
    "\n",
    "# Fit and extrapolate\n",
    "def linear_model(x, a, b):\n",
    "    return a + b * x\n",
    "\n",
    "counts = np.array([result.get('0', 0) for result in results])  # Use `.get` to handle missing keys\n",
    "params, _ = curve_fit(linear_model, scale_factors, counts)\n",
    "\n",
    "# Extract fit parameters and calculate zero-noise result\n",
    "a, b = params\n",
    "noiseless_result = a\n",
    "print(\"Estimated zero-noise result:\", noiseless_result)\n",
    "\n",
    "# Quantitative analysis of error reduction\n",
    "true_result = 512  # Assume the true result (ideal noiseless value)\n",
    "noisy_result = counts[0]  # Result with noise scale factor 1\n",
    "zero_noise_error = abs(noiseless_result - true_result)\n",
    "noisy_error = abs(noisy_result - true_result)\n",
    "\n",
    "# Calculate improvement in accuracy\n",
    "error_reduction = ((noisy_error - zero_noise_error) / noisy_error) * 100\n",
    "\n",
    "print(f\"True Result: {true_result}\")\n",
    "print(f\"Noisy Result: {noisy_result}\")\n",
    "print(f\"Noisy Error: {noisy_error}\")\n",
    "print(f\"Zero-Noise Error: {zero_noise_error}\")\n",
    "print(f\"Error Reduction: {error_reduction:.2f}%\")\n",
    "\n",
    "# Plot extrapolation results\n",
    "plt.figure(figsize=(10, 6))\n",
    "plt.scatter(scale_factors, counts, label=\"Noisy Results\", color=\"blue\")\n",
    "plt.plot(scale_factors, linear_model(np.array(scale_factors), a, b), label=\"Linear Fit\", color=\"red\")\n",
    "plt.axhline(y=noiseless_result, color=\"green\", linestyle=\"--\", label=\"Zero-Noise Estimate\")\n",
    "plt.axhline(y=true_result, color=\"purple\", linestyle=\":\", label=\"True Result\")\n",
    "plt.xlabel(\"Scale Factor\")\n",
    "plt.ylabel(\"Counts for '0'\")\n",
    "plt.title(\"Extrapolation to Zero Noise\")\n",
    "plt.legend()\n",
    "plt.grid(True)\n",
    "plt.show()\n",
    "\n",
    "# Plot Zero-Noise Error and Error Reduction\n",
    "metrics = [\"Noisy Error\", \"Zero-Noise Error\", \"Error Reduction (%)\"]\n",
    "values = [noisy_error, zero_noise_error, error_reduction]\n",
    "\n",
    "plt.figure(figsize=(8, 5))\n",
    "plt.bar(metrics, values, color=[\"blue\", \"green\", \"orange\"])\n",
    "plt.title(\"Comparison of Noisy Error, Zero-Noise Error, and Error Reduction\")\n",
    "plt.ylabel(\"Values\")\n",
    "plt.grid(axis=\"y\", linestyle=\"--\")\n",
    "plt.show()\n"
   ]
  },
  {
   "cell_type": "code",
   "execution_count": 29,
   "id": "729d23cf-eed9-420e-86f8-9fb57399a310",
   "metadata": {},
   "outputs": [
    {
     "ename": "NoiseError",
     "evalue": "'1 qubit QuantumError cannot be applied to 2 qubit instruction \"cx\".'",
     "output_type": "error",
     "traceback": [
      "\u001b[0;31m---------------------------------------------------------------------------\u001b[0m",
      "\u001b[0;31mNoiseError\u001b[0m                                Traceback (most recent call last)",
      "Cell \u001b[0;32mIn[29], line 18\u001b[0m\n\u001b[1;32m     16\u001b[0m noise_model \u001b[38;5;241m=\u001b[39m NoiseModel()\n\u001b[1;32m     17\u001b[0m depolarizing \u001b[38;5;241m=\u001b[39m depolarizing_error(\u001b[38;5;241m0.01\u001b[39m, \u001b[38;5;241m1\u001b[39m)  \u001b[38;5;66;03m# Reduced noise rate\u001b[39;00m\n\u001b[0;32m---> 18\u001b[0m \u001b[43mnoise_model\u001b[49m\u001b[38;5;241;43m.\u001b[39;49m\u001b[43madd_all_qubit_quantum_error\u001b[49m\u001b[43m(\u001b[49m\u001b[43mdepolarizing\u001b[49m\u001b[43m,\u001b[49m\u001b[43m \u001b[49m\u001b[43m[\u001b[49m\u001b[38;5;124;43m'\u001b[39;49m\u001b[38;5;124;43mh\u001b[39;49m\u001b[38;5;124;43m'\u001b[39;49m\u001b[43m,\u001b[49m\u001b[43m \u001b[49m\u001b[38;5;124;43m'\u001b[39;49m\u001b[38;5;124;43mcx\u001b[39;49m\u001b[38;5;124;43m'\u001b[39;49m\u001b[43m]\u001b[49m\u001b[43m)\u001b[49m\n\u001b[1;32m     20\u001b[0m \u001b[38;5;66;03m# Create a folded circuit\u001b[39;00m\n\u001b[1;32m     21\u001b[0m \u001b[38;5;28;01mdef\u001b[39;00m \u001b[38;5;21mcreate_folded_circuit\u001b[39m(original_qc, scale_factor):\n",
      "File \u001b[0;32m~/qiskit_env/lib/python3.10/site-packages/qiskit_aer/noise/noise_model.py:697\u001b[0m, in \u001b[0;36mNoiseModel.add_all_qubit_quantum_error\u001b[0;34m(self, error, instructions, warnings)\u001b[0m\n\u001b[1;32m    695\u001b[0m \u001b[38;5;66;03m# Add instructions\u001b[39;00m\n\u001b[1;32m    696\u001b[0m \u001b[38;5;28;01mfor\u001b[39;00m name, label \u001b[38;5;129;01min\u001b[39;00m \u001b[38;5;28mself\u001b[39m\u001b[38;5;241m.\u001b[39m_instruction_names_labels(instructions):\n\u001b[0;32m--> 697\u001b[0m     \u001b[38;5;28;43mself\u001b[39;49m\u001b[38;5;241;43m.\u001b[39;49m\u001b[43m_check_number_of_qubits\u001b[49m\u001b[43m(\u001b[49m\u001b[43merror\u001b[49m\u001b[43m,\u001b[49m\u001b[43m \u001b[49m\u001b[43mname\u001b[49m\u001b[43m)\u001b[49m\n\u001b[1;32m    698\u001b[0m     \u001b[38;5;28;01mif\u001b[39;00m label \u001b[38;5;129;01min\u001b[39;00m \u001b[38;5;28mself\u001b[39m\u001b[38;5;241m.\u001b[39m_default_quantum_errors:\n\u001b[1;32m    699\u001b[0m         new_error \u001b[38;5;241m=\u001b[39m \u001b[38;5;28mself\u001b[39m\u001b[38;5;241m.\u001b[39m_default_quantum_errors[label]\u001b[38;5;241m.\u001b[39mcompose(error)\n",
      "File \u001b[0;32m~/qiskit_env/lib/python3.10/site-packages/qiskit_aer/noise/noise_model.py:1103\u001b[0m, in \u001b[0;36mNoiseModel._check_number_of_qubits\u001b[0;34m(self, error, name)\u001b[0m\n\u001b[1;32m   1101\u001b[0m     \u001b[38;5;28;01mraise\u001b[39;00m NoiseError(error_message(\u001b[38;5;241m1\u001b[39m))\n\u001b[1;32m   1102\u001b[0m \u001b[38;5;28;01mif\u001b[39;00m name \u001b[38;5;129;01min\u001b[39;00m \u001b[38;5;28mself\u001b[39m\u001b[38;5;241m.\u001b[39m_2qubit_instructions \u001b[38;5;129;01mand\u001b[39;00m error\u001b[38;5;241m.\u001b[39mnum_qubits \u001b[38;5;241m!=\u001b[39m \u001b[38;5;241m2\u001b[39m:\n\u001b[0;32m-> 1103\u001b[0m     \u001b[38;5;28;01mraise\u001b[39;00m NoiseError(error_message(\u001b[38;5;241m2\u001b[39m))\n\u001b[1;32m   1104\u001b[0m \u001b[38;5;28;01mif\u001b[39;00m name \u001b[38;5;129;01min\u001b[39;00m \u001b[38;5;28mself\u001b[39m\u001b[38;5;241m.\u001b[39m_3qubit_instructions \u001b[38;5;129;01mand\u001b[39;00m error\u001b[38;5;241m.\u001b[39mnum_qubits \u001b[38;5;241m!=\u001b[39m \u001b[38;5;241m3\u001b[39m:\n\u001b[1;32m   1105\u001b[0m     \u001b[38;5;28;01mraise\u001b[39;00m NoiseError(error_message(\u001b[38;5;241m3\u001b[39m))\n",
      "\u001b[0;31mNoiseError\u001b[0m: '1 qubit QuantumError cannot be applied to 2 qubit instruction \"cx\".'"
     ]
    }
   ],
   "source": [
    "from qiskit import QuantumCircuit\n",
    "from qiskit_aer import Aer\n",
    "\n",
    "from qiskit_aer.noise import NoiseModel, depolarizing_error\n",
    "import numpy as np\n",
    "from scipy.optimize import curve_fit\n",
    "import matplotlib.pyplot as plt\n",
    "\n",
    "# Define the circuit\n",
    "qc = QuantumCircuit(2, 2)\n",
    "qc.h(0)\n",
    "qc.cx(0, 1)\n",
    "qc.measure([0, 1], [0, 1])\n",
    "\n",
    "# Define noise model\n",
    "noise_model = NoiseModel()\n",
    "depolarizing = depolarizing_error(0.01, 1)  # Reduced noise rate\n",
    "noise_model.add_all_qubit_quantum_error(depolarizing, ['h', 'cx'])\n",
    "\n",
    "# Create a folded circuit\n",
    "def create_folded_circuit(original_qc, scale_factor):\n",
    "    gates_only_qc = original_qc.copy()\n",
    "    gates_only_qc.data = gates_only_qc.data[:-2]  # Remove measurements\n",
    "    folded_qc = gates_only_qc\n",
    "    for _ in range(int(scale_factor - 1)):\n",
    "        folded_qc = folded_qc.compose(gates_only_qc.inverse())\n",
    "    folded_qc.measure_all()\n",
    "    return folded_qc\n",
    "\n",
    "# Run with noise\n",
    "def run_with_noise(qc, scale_factor, noise_model):\n",
    "    folded_qc = create_folded_circuit(qc, scale_factor)\n",
    "    backend = Aer.get_backend('qasm_simulator')\n",
    "    job = backend.run(folded_qc, noise_model=noise_model, shots=1024)\n",
    "    result = job.result()\n",
    "    return result.get_counts()\n",
    "\n",
    "# Collect results\n",
    "scale_factors = [1, 1.5, 2]\n",
    "results = [run_with_noise(qc, sf, noise_model) for sf in scale_factors]\n",
    "\n",
    "print(\"Noisy Counts:\", results)  # Debugging counts\n",
    "\n",
    "# Fit linear model\n",
    "def linear_model(x, a, b):\n",
    "    return a + b * x\n",
    "\n",
    "counts = np.array([result.get('00', 0) for result in results])  # Adjust for 2-qubit counts\n",
    "params, _ = curve_fit(linear_model, scale_factors, counts)\n",
    "noiseless_result = params[0]\n",
    "\n",
    "# Quantitative analysis\n",
    "true_result = 512  # Example true result\n",
    "noisy_result = counts[0]\n",
    "zero_noise_error = abs(noiseless_result - true_result)\n",
    "noisy_error = abs(noisy_result - true_result)\n",
    "error_reduction = ((noisy_error - zero_noise_error) / noisy_error) * 100\n",
    "\n",
    "print(f\"True Result: {true_result}\")\n",
    "print(f\"Noisy Result: {noisy_result}\")\n",
    "print(f\"Noisy Error: {noisy_error}\")\n",
    "print(f\"Zero-Noise Error: {zero_noise_error}\")\n",
    "print(f\"Error Reduction: {error_reduction:.2f}%\")\n",
    "\n",
    "# Plot extrapolation\n",
    "plt.figure(figsize=(10, 6))\n",
    "plt.scatter(scale_factors, counts, label=\"Noisy Results\", color=\"blue\")\n",
    "plt.plot(scale_factors, linear_model(np.array(scale_factors), *params), label=\"Linear Fit\", color=\"red\")\n",
    "plt.axhline(y=noiseless_result, color=\"green\", linestyle=\"--\", label=\"Zero-Noise Estimate\")\n",
    "plt.axhline(y=true_result, color=\"purple\", linestyle=\":\", label=\"True Result\")\n",
    "plt.xlabel(\"Scale Factor\")\n",
    "plt.ylabel(\"Counts for '00'\")\n",
    "plt.title(\"Extrapolation to Zero Noise\")\n",
    "plt.legend()\n",
    "plt.grid(True)\n",
    "plt.show()\n",
    "\n",
    "# Plot errors\n",
    "metrics = [\"Noisy Error\", \"Zero-Noise Error\", \"Error Reduction (%)\"]\n",
    "values = [noisy_error, zero_noise_error, error_reduction]\n",
    "\n",
    "plt.figure(figsize=(8, 5))\n",
    "plt.bar(metrics, values, color=[\"blue\", \"green\", \"orange\"])\n",
    "plt.title(\"Error Metrics Comparison\")\n",
    "plt.ylabel(\"Values\")\n",
    "plt.grid(axis=\"y\", linestyle=\"--\")\n",
    "plt.show()\n"
   ]
  },
  {
   "cell_type": "code",
   "execution_count": 30,
   "id": "b30c0cd7-3b87-481c-be7e-29166fd110a2",
   "metadata": {},
   "outputs": [
    {
     "name": "stdout",
     "output_type": "stream",
     "text": [
      "Noisy Counts: [{'01 00': 8, '10 00': 3, '00 00': 482, '11 00': 531}, {'01 00': 3, '10 00': 5, '00 00': 506, '11 00': 510}, {'11 00': 7, '01 00': 16, '10 00': 14, '00 00': 987}]\n",
      "True Result: 512\n",
      "Noisy Result: 0\n",
      "Noisy Error: 512\n",
      "Zero-Noise Error: 512.0\n",
      "Error Reduction: 0.00%\n"
     ]
    },
    {
     "data": {
      "image/png": "[encoded data removed]",
      "text/plain": [
       "<Figure size 1000x600 with 1 Axes>"
      ]
     },
     "metadata": {},
     "output_type": "display_data"
    },
    {
     "data": {
      "image/png": "[encoded data removed]",
      "text/plain": [
       "<Figure size 800x500 with 1 Axes>"
      ]
     },
     "metadata": {},
     "output_type": "display_data"
    }
   ],
   "source": [
    "from qiskit import QuantumCircuit\n",
    "from qiskit_aer import Aer\n",
    "from qiskit_aer.noise import NoiseModel, depolarizing_error\n",
    "import numpy as np\n",
    "from scipy.optimize import curve_fit\n",
    "import matplotlib.pyplot as plt\n",
    "\n",
    "# Define the quantum circuit\n",
    "qc = QuantumCircuit(2, 2)\n",
    "qc.h(0)\n",
    "qc.cx(0, 1)\n",
    "qc.measure([0, 1], [0, 1])\n",
    "\n",
    "# Define noise model\n",
    "noise_model = NoiseModel()\n",
    "# Add 1-qubit depolarizing error\n",
    "one_qubit_error = depolarizing_error(0.01, 1)\n",
    "# Add 2-qubit depolarizing error for cx gate\n",
    "two_qubit_error = depolarizing_error(0.02, 2)\n",
    "# Apply errors to specific gates\n",
    "noise_model.add_all_qubit_quantum_error(one_qubit_error, ['h'])\n",
    "noise_model.add_all_qubit_quantum_error(two_qubit_error, ['cx'])\n",
    "\n",
    "# Create a folded circuit (excluding the measurement)\n",
    "def create_folded_circuit(original_qc, scale_factor):\n",
    "    gates_only_qc = original_qc.copy()\n",
    "    gates_only_qc.data = gates_only_qc.data[:-2]  # Remove measurement operations\n",
    "    folded_qc = gates_only_qc\n",
    "    for _ in range(int(scale_factor - 1)):\n",
    "        folded_qc = folded_qc.compose(gates_only_qc.inverse())\n",
    "    folded_qc.measure_all()\n",
    "    return folded_qc\n",
    "\n",
    "# Run the circuit at different noise levels\n",
    "def run_with_noise(qc, scale_factor, noise_model):\n",
    "    folded_qc = create_folded_circuit(qc, scale_factor)\n",
    "    backend = Aer.get_backend('qasm_simulator')\n",
    "    job = backend.run(folded_qc, noise_model=noise_model, shots=1024)\n",
    "    result = job.result()\n",
    "    return result.get_counts()\n",
    "\n",
    "# Collect noisy results\n",
    "scale_factors = [1, 1.5, 2]\n",
    "results = [run_with_noise(qc, sf, noise_model) for sf in scale_factors]\n",
    "\n",
    "print(\"Noisy Counts:\", results)  # Debugging counts\n",
    "\n",
    "# Fit linear model\n",
    "def linear_model(x, a, b):\n",
    "    return a + b * x\n",
    "\n",
    "counts = np.array([result.get('00', 0) for result in results])  # Adjust for 2-qubit counts\n",
    "params, _ = curve_fit(linear_model, scale_factors, counts)\n",
    "noiseless_result = params[0]\n",
    "\n",
    "# Quantitative analysis\n",
    "true_result = 512  # Example true result\n",
    "noisy_result = counts[0]\n",
    "zero_noise_error = abs(noiseless_result - true_result)\n",
    "noisy_error = abs(noisy_result - true_result)\n",
    "error_reduction = ((noisy_error - zero_noise_error) / noisy_error) * 100\n",
    "\n",
    "print(f\"True Result: {true_result}\")\n",
    "print(f\"Noisy Result: {noisy_result}\")\n",
    "print(f\"Noisy Error: {noisy_error}\")\n",
    "print(f\"Zero-Noise Error: {zero_noise_error}\")\n",
    "print(f\"Error Reduction: {error_reduction:.2f}%\")\n",
    "\n",
    "# Plot extrapolation results\n",
    "plt.figure(figsize=(10, 6))\n",
    "plt.scatter(scale_factors, counts, label=\"Noisy Results\", color=\"blue\")\n",
    "plt.plot(scale_factors, linear_model(np.array(scale_factors), *params), label=\"Linear Fit\", color=\"red\")\n",
    "plt.axhline(y=noiseless_result, color=\"green\", linestyle=\"--\", label=\"Zero-Noise Estimate\")\n",
    "plt.axhline(y=true_result, color=\"purple\", linestyle=\":\", label=\"True Result\")\n",
    "plt.xlabel(\"Scale Factor\")\n",
    "plt.ylabel(\"Counts for '00'\")\n",
    "plt.title(\"Extrapolation to Zero Noise\")\n",
    "plt.legend()\n",
    "plt.grid(True)\n",
    "plt.show()\n",
    "\n",
    "# Plot errors\n",
    "metrics = [\"Noisy Error\", \"Zero-Noise Error\", \"Error Reduction (%)\"]\n",
    "values = [noisy_error, zero_noise_error, error_reduction]\n",
    "\n",
    "plt.figure(figsize=(8, 5))\n",
    "plt.bar(metrics, values, color=[\"blue\", \"green\", \"orange\"])\n",
    "plt.title(\"Error Metrics Comparison\")\n",
    "plt.ylabel(\"Values\")\n",
    "plt.grid(axis=\"y\", linestyle=\"--\")\n",
    "plt.show()\n"
   ]
  }
 ],
 "metadata": {
  "kernelspec": {
   "display_name": "Python (qiskit_env)",
   "language": "python",
   "name": "qiskit_env"
  },
  "language_info": {
   "codemirror_mode": {
    "name": "ipython",
    "version": 3
   },
   "file_extension": ".py",
   "mimetype": "text/x-python",
   "name": "python",
   "nbconvert_exporter": "python",
   "pygments_lexer": "ipython3",
   "version": "3.10.15"
  }
 },
 "nbformat": 4,
 "nbformat_minor": 5
}
